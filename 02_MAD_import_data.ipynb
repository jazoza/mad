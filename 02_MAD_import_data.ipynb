{
  "cells": [
    {
      "cell_type": "markdown",
      "metadata": {
        "id": "view-in-github",
        "colab_type": "text"
      },
      "source": [
        "<a href=\"https://colab.research.google.com/github/jazoza/mad/blob/main/02_MAD_import_data.ipynb\" target=\"_parent\"><img src=\"https://colab.research.google.com/assets/colab-badge.svg\" alt=\"Open In Colab\"/></a>"
      ]
    },
    {
      "cell_type": "markdown",
      "source": [
        "[Colab Notebook](https://colab.research.google.com/drive/1rlgOJ6TXEM3WIlfeCmgb-h3wvkZ_xxEZ#scrollTo=KL-xWvxSwAqq)"
      ],
      "metadata": {
        "id": "KL-xWvxSwAqq"
      }
    },
    {
      "cell_type": "code",
      "execution_count": null,
      "metadata": {
        "id": "_2ox5gcHFT-B"
      },
      "outputs": [],
      "source": [
        "!pip install susi"
      ]
    },
    {
      "cell_type": "code",
      "execution_count": null,
      "metadata": {
        "id": "BeUAXgSDG56z"
      },
      "outputs": [],
      "source": [
        "import numpy as np\n",
        "import matplotlib.pyplot as plt\n",
        "import math\n",
        "import susi\n",
        "import json\n",
        "import pickle\n",
        "import requests\n",
        "import pandas as pd\n",
        "from susi.SOMPlots import plot_nbh_dist_weight_matrix, plot_umatrix, plot_estimation_map, plot_som_histogram\n",
        "from bokeh.models import ColumnDataSource, LabelSet\n",
        "from bokeh.plotting import figure, show, output_file, save\n",
        "from bokeh.io import output_notebook\n",
        "output_notebook()"
      ]
    },
    {
      "cell_type": "markdown",
      "source": [
        "## Add .pkl files to your own GDrive"
      ],
      "metadata": {
        "id": "2ZfgfrFlTEpd"
      }
    },
    {
      "cell_type": "code",
      "source": [
        "from google.colab import drive\n",
        "drive.mount(\"/content/drive\")"
      ],
      "metadata": {
        "id": "63rbCh_MK3yh"
      },
      "execution_count": null,
      "outputs": []
    },
    {
      "cell_type": "markdown",
      "source": [
        "## Getting the right PATH\n",
        "When your GDrive is loaded, find the folder containing the .pkl files that were provided. Than right click the folder containing it and select `Copy path`.\n",
        "Paste it in the cell below replacing the path that follows the `%cd` command"
      ],
      "metadata": {
        "id": "MNw7EWC0Swif"
      }
    },
    {
      "cell_type": "code",
      "source": [
        "!pwd\n",
        "!ls"
      ],
      "metadata": {
        "id": "x0p21HMrSMXU"
      },
      "execution_count": null,
      "outputs": []
    },
    {
      "cell_type": "code",
      "source": [
        "# change into the directory where you store your files\n",
        "%cd /content/drive/MyDrive/ #add destination"
      ],
      "metadata": {
        "id": "gjMTvLKfmvdP"
      },
      "execution_count": null,
      "outputs": []
    },
    {
      "cell_type": "markdown",
      "metadata": {
        "id": "jh5JUUx9JQmF"
      },
      "source": [
        "# Import Datasets"
      ]
    },
    {
      "cell_type": "code",
      "execution_count": null,
      "metadata": {
        "id": "wmzkoRTeJQmH"
      },
      "outputs": [],
      "source": [
        "radio_data_path = 'radio.pkl'\n",
        "fma_data_path = 'fma.pkl'\n",
        "xenocanto_data_path = 'xenocanto.pkl'\n",
        "\n",
        "radio_data = pickle.load(open(radio_data_path, 'rb'))\n",
        "# /\\.\\/(\\w*?)\\//g\n",
        "data_length = len(radio_data['features'])\n",
        "radio_data['known'] = ['NaN'] * data_length\n",
        "index = 0\n",
        "for path in radio_data['Sample_audio']:\n",
        "    if './known/' in path:\n",
        "       radio_data['known'][index] = 'known'\n",
        "    else:\n",
        "        radio_data['known'][index] = 'unknown'\n",
        "    index+=1\n",
        "\n",
        "fma_data = pickle.load(open(fma_data_path, 'rb'))\n",
        "\n",
        "xenocanto_data = pickle.load(open(xenocanto_data_path, 'rb'))\n",
        "\n",
        "datasets = {\n",
        "    \"fma\": fma_data,\n",
        "    \"radio\": radio_data,\n",
        "    \"xenocanto\": xenocanto_data,\n",
        "}"
      ]
    },
    {
      "cell_type": "code",
      "execution_count": null,
      "metadata": {
        "id": "fWC-HJpuoFMu"
      },
      "outputs": [],
      "source": [
        "# @title Choose the data you want to work with\n",
        "# @markdown `You can select between FMA, Xenocanto and Radio`\n",
        "selector = \"fma\" # @param [\"fma\", \"radio\", \"xenocanto\"]\n",
        "current_df = datasets[selector]\n",
        "data_length = len(current_df)\n",
        "train_amount = math.floor(len(current_df) / 4) * 3\n",
        "current_df_train = current_df.loc[0:train_amount-1]\n",
        "train_data = current_df.loc[0:train_amount-1]\n",
        "print(len(train_data))\n",
        "train_data = [np.ravel(item) for item in train_data['mfcc']]\n",
        "print(len(train_data))\n",
        "test_data = current_df.loc[train_amount:data_length-1]\n",
        "current_df_test = current_df.loc[train_amount:data_length-1]\n",
        "print(len(test_data))\n",
        "test_data = [np.ravel(item) for item in test_data['mfcc']]\n",
        "print(len(test_data))\n",
        "\n"
      ]
    },
    {
      "cell_type": "code",
      "execution_count": null,
      "metadata": {
        "id": "C6uDa106JQmI"
      },
      "outputs": [],
      "source": [
        "#@markdown ### `5 * sqrt(number of training samples)`\n",
        "#@markdown this returns \"ideal\" grid size\n",
        "\n",
        "#@markdown but can be changed to try out\n",
        "\n",
        "train_data_length = len(train_data)\n",
        "\n",
        "# for d in train_data:\n",
        "#     print(d.shape)\n",
        "# 5 * sqrt(number of training samples)\n",
        "grid = math.ceil(5 * math.sqrt(train_data_length))\n",
        "grid = math.floor(math.sqrt(grid))\n",
        "print(grid)"
      ]
    },
    {
      "cell_type": "markdown",
      "source": [
        "# Train the SOM\n",
        "\n",
        "`If you want to use pre-trained SOM skip to the` [Load SOM](#scrollTo=GZrbxyFIJQmI) `cell`"
      ],
      "metadata": {
        "id": "vATjrDxocYaS"
      }
    },
    {
      "cell_type": "code",
      "source": [
        "# @markdown `Set the number of iterations the SOM should execute`\n",
        "iterations = 10000 # @param {type:\"number\"}\n",
        "som = susi.SOMClustering(\n",
        "    n_rows=grid,\n",
        "    n_columns=grid,\n",
        "    n_iter_unsupervised=iterations\n",
        ")\n",
        "som.fit(train_data)\n",
        "# print(\"SOM fitted!\")"
      ],
      "metadata": {
        "id": "LDTtY36G6he_"
      },
      "execution_count": null,
      "outputs": []
    },
    {
      "cell_type": "code",
      "execution_count": null,
      "metadata": {
        "id": "O7P-H4yYJQmI"
      },
      "outputs": [],
      "source": [
        "#@title Saving SOM { display-mode: \"form\" }\n",
        "#@markdown use the following cell to save the som to your GDrive. Do not forget the `.pkl` extension, and make sure your runtime did not disconnect.\n",
        "som_fma = som\n",
        "filename = 'what_a_som.pkl' #@param {type:\"string\"}\n",
        "with open(filename, 'wb') as _file:\n",
        "    pickle.dump(som_fma, _file)"
      ]
    },
    {
      "cell_type": "markdown",
      "metadata": {
        "id": "GZrbxyFIJQmI"
      },
      "source": [
        "## Load SOM"
      ]
    },
    {
      "cell_type": "code",
      "execution_count": null,
      "metadata": {
        "id": "t7Oy0PHAJQmI"
      },
      "outputs": [],
      "source": [
        "#@markdown `Be sure to be in the correct folder!`\n",
        "som_path = 'som_fma.pkl' #@param {type: \"string\"}\n",
        "som = pickle.load(open(som_path, 'rb'))"
      ]
    },
    {
      "cell_type": "markdown",
      "source": [
        "## Show SOM"
      ],
      "metadata": {
        "id": "9icLFq0PfWSl"
      }
    },
    {
      "cell_type": "code",
      "execution_count": null,
      "metadata": {
        "id": "V9VOctEaJQmI"
      },
      "outputs": [],
      "source": [
        "u_matrix = som.get_u_matrix()\n",
        "plot_umatrix(u_matrix, grid, grid)\n",
        "plt.show()"
      ]
    },
    {
      "cell_type": "code",
      "execution_count": null,
      "metadata": {
        "id": "6X3c5Ha8JQmJ"
      },
      "outputs": [],
      "source": [
        "y = ['#1f77b4', '#ff7f0e', '#2ca02c', '#d62728', '#9467bd', '#8c564b', '#e377c2', '#7f7f7f', '#bcbd22', '#17becf']\n",
        "clusters = som.get_clusters(np.asarray(test_data[0:100]))\n",
        "plt.scatter(x=[c[1] for c in clusters], y=[c[0] for c in clusters], alpha=0.2)\n",
        "plt.gca().invert_yaxis()\n",
        "plt.show()"
      ]
    },
    {
      "cell_type": "code",
      "execution_count": null,
      "metadata": {
        "id": "JHJTT7-9JQmJ"
      },
      "outputs": [],
      "source": [
        "# @title Preparing data for customized node visualization  { display-mode: \"form\" }\n",
        "# @markdown\n",
        "data_from_node = []\n",
        "for x in range(grid):\n",
        "    for y in range(grid):\n",
        "        obj = {\"x\": x, \"y\": y}\n",
        "        data = som.get_datapoints_from_node((x, y))\n",
        "        obj[\"data\"] = data\n",
        "        obj[\"val\"] = len(data)\n",
        "        data_from_node.append(obj)\n",
        "\n",
        "\n",
        "def get_min_max(data):\n",
        "    values_arr = [x[\"val\"] for x in data]\n",
        "    minimum = min(values_arr)\n",
        "    maximum = max(values_arr)\n",
        "    avg = np.average(values_arr)\n",
        "    return [minimum, maximum, avg]\n",
        "\n",
        "\n",
        "# from https://stackoverflow.com/questions/1969240/mapping-a-range-of-values-to-another\n",
        "def map(value, original_min, original_max, mapped_min, mapped_max):\n",
        "    # Figure out how 'wide' each range is\n",
        "    leftSpan = original_max - original_min\n",
        "    rightSpan = mapped_max - mapped_min\n",
        "\n",
        "    # Convert the left range into a 0-1 range (float)\n",
        "    valueScaled = float(value - original_min) / float(leftSpan)\n",
        "\n",
        "    # Convert the 0-1 range into a value in the right range.\n",
        "    return round(mapped_min + (valueScaled * rightSpan))\n",
        "\n",
        "\n",
        "def clamp(n, smallest, largest):\n",
        "    return max(smallest, min(n, largest))\n",
        "\n",
        "\n",
        "\n",
        "def make_color_palette(data):\n",
        "    minmax = get_min_max(data)\n",
        "    length = len(data)\n",
        "    for i in range(length):\n",
        "        item = data[i]\n",
        "        r = map(item[\"val\"], minmax[0], minmax[2], 0, 155)\n",
        "        r = clamp(r, 0, 255)\n",
        "        g = clamp(map(item[\"val\"], minmax[0], minmax[2], 0, 155), 0, 255)\n",
        "        b = clamp(map(item[\"val\"], minmax[0], minmax[2], 100, 255), 0, 255)\n",
        "        color = \"#%02x%02x%02x\" % (r, g, b)\n",
        "        item[\"color-hex\"] = color\n",
        "        color = [r / 255, g / 255, b / 255]\n",
        "        item[\"color-rgb\"] = color\n",
        "\n",
        "\n",
        "make_color_palette(data_from_node)\n"
      ]
    },
    {
      "cell_type": "code",
      "source": [
        "# @title List all the Columns of Dataset { display-mode: \"form\" }\n",
        "current_df.columns.values.tolist()"
      ],
      "metadata": {
        "id": "boM76AvMhk5x"
      },
      "execution_count": null,
      "outputs": []
    },
    {
      "cell_type": "code",
      "source": [
        "# @title Prepare data given the field to investigate { display-mode: \"form\" }\n",
        "field = \"Genre\" # @param {type:\"string\"}\n",
        "fields = current_df_test[field].unique().tolist()\n",
        "\n",
        "field_visualizations = {}\n",
        "\n",
        "for item in fields:\n",
        "  field_visualizations[item] = []\n",
        "\n",
        "for key in field_visualizations:\n",
        "  print(key)\n",
        "  for item in data_from_node:\n",
        "    for index in item['data']:\n",
        "      genre = current_df[field].loc[index]\n",
        "      if genre == key:\n",
        "        temp_obj = {\n",
        "            \"x\": item[\"x\"],\n",
        "            \"y\": item[\"y\"],\n",
        "            \"loc\": [int(item[\"x\"]), int(item[\"y\"])],\n",
        "            \"index\": index\n",
        "        }\n",
        "        field_visualizations[key].append(temp_obj)\n",
        "print(field_visualizations)"
      ],
      "metadata": {
        "id": "6Jy7dOwfh_F0"
      },
      "execution_count": null,
      "outputs": []
    },
    {
      "cell_type": "code",
      "source": [
        "# @title Display where the fields cluster\n",
        "fig, axs = plt.subplots(len(fields), figsize=(4,4 * len(fields) ))\n",
        "\n",
        "for i in range(len(fields)):\n",
        "  field = fields[i]\n",
        "  data = field_visualizations[field]\n",
        "  X = [x['x'] for x in data]\n",
        "  Y = [x['y'] for x in data]\n",
        "  axs[i].scatter(X, Y)\n",
        "  axs[i].set_title(field)"
      ],
      "metadata": {
        "id": "mS3zUv1Fl9l-"
      },
      "execution_count": null,
      "outputs": []
    },
    {
      "cell_type": "code",
      "source": [],
      "metadata": {
        "id": "VRYsMYXU5O2h"
      },
      "execution_count": null,
      "outputs": []
    },
    {
      "cell_type": "markdown",
      "metadata": {
        "id": "QCJfeQLbJQmK"
      },
      "source": [
        "# Visualizing the SOM using Bokeh"
      ]
    },
    {
      "cell_type": "code",
      "execution_count": null,
      "metadata": {
        "id": "kn-D3Oi9rIM3"
      },
      "outputs": [],
      "source": [
        "# @title update dataframe\n",
        "projection = som.transform(test_data)\n",
        "X = [x[0] for x in projection]\n",
        "Y = [x[1] for x in projection]\n",
        "\n",
        "current_df_test['proj_x'] = X\n",
        "current_df_test['proj_y'] = Y\n",
        "proj = [[x[0], x[1]] for x in projection]\n",
        "current_df_test['proj'] = proj"
      ]
    },
    {
      "cell_type": "code",
      "execution_count": null,
      "metadata": {
        "id": "qRTqblOpJQmK"
      },
      "outputs": [],
      "source": [
        "# @title Build Color palette utility { display-mode: \"form\" }\n",
        "# @markdown This few line of code are used to build color palette\n",
        "import random\n",
        "def build_color_palette(unique):\n",
        "    result = {}\n",
        "    for name in unique:\n",
        "        if type(name).__name__ != 'str':\n",
        "          if math.isnan(float(name)):\n",
        "            name = \"Unknown\"\n",
        "        # Generating a random number in between 0 and 2^24\n",
        "        color = random.randrange(0, 2**24)\n",
        "        # Converting that number from base-10 (decimal) to base-16 (hexadecimal)\n",
        "        hex_color = hex(color)\n",
        "        std_color = \"#\" + hex_color[2:]\n",
        "        result[name] = std_color\n",
        "    print(result)\n",
        "    return result\n",
        "\n",
        "def assign_colors(df, palette, header):\n",
        "    colors = []\n",
        "    for item in df[header]: #this needs to be set in a variable\n",
        "        if type(item).__name__ != 'str':\n",
        "          if math.isnan(float(item)):\n",
        "            item = \"Unknown\"\n",
        "        color = palette[item]\n",
        "        colors.append(color)\n",
        "    df['colors'] = colors\n"
      ]
    },
    {
      "cell_type": "code",
      "source": [
        "# @title List all the Columns of Dataset { display-mode: \"form\" }\n",
        "current_df_test.columns.values.tolist()"
      ],
      "metadata": {
        "id": "bV8h4tCzy0uc"
      },
      "execution_count": null,
      "outputs": []
    },
    {
      "cell_type": "code",
      "execution_count": null,
      "metadata": {
        "id": "cnQfiforJQmK"
      },
      "outputs": [],
      "source": [
        "# @title Select the field that will be displayed in the visualization\n",
        "field = \"Genre\" #@param {type: \"string\"}\n",
        "unique_values = current_df_test[field].unique()\n",
        "print(len(unique_values))\n",
        "palette = build_color_palette(unique_values)\n",
        "assign_colors(current_df_test, palette, field)"
      ]
    },
    {
      "cell_type": "code",
      "source": [
        "# @title List all the unique values of the selected field of the Dataset { display-mode: \"form\" }\n",
        "current_df_test[field].unique().tolist()"
      ],
      "metadata": {
        "id": "8HNjrUfTxqYH"
      },
      "execution_count": null,
      "outputs": []
    },
    {
      "cell_type": "code",
      "source": [
        "# @title Make test data based on single category { display-mode: \"form\" }\n",
        "category = 'Rock' #@param {type:\"string\"}\n",
        "test_data = current_df_test.loc[current_df_test[field] == category]"
      ],
      "metadata": {
        "id": "W7uDv-B4r0Tp"
      },
      "execution_count": null,
      "outputs": []
    },
    {
      "cell_type": "code",
      "source": [
        "# @title Make test data based on multiple categories { display-mode: \"form\" }\n",
        "# @markdown `please insert the values seprated by a space \" \"`\n",
        "category = 'Rock Instrumental Folk' #@param {type:\"string\"}\n",
        "category = category.split()\n",
        "print(category)\n",
        "test_data = current_df_test.loc[current_df_test[field].isin(category)]"
      ],
      "metadata": {
        "id": "suHqEO2o91U0"
      },
      "execution_count": null,
      "outputs": []
    },
    {
      "cell_type": "code",
      "source": [
        "# @title Make test data based on rows from the test dataset { display-mode: \"form\" }\n",
        "# @markdown `depending on the dataset you might have smaller boundaries`\n",
        "\n",
        "# @markdown `so to say less than 199 datapoints`\n",
        "start = 0 #@param {type:\"number\"}\n",
        "end = 199 #@param {type:\"number\"}\n",
        "if end > 999:\n",
        "  end = 999\n",
        "print(end)\n",
        "test_data = current_df_test.loc[train_amount + start:train_amount + end]"
      ],
      "metadata": {
        "id": "QYNlkPGvs-Gy"
      },
      "execution_count": null,
      "outputs": []
    },
    {
      "cell_type": "code",
      "execution_count": null,
      "metadata": {
        "id": "zFf7HCqipTPT"
      },
      "outputs": [],
      "source": [
        "# @title Build Visualization with Bokeh { display-mode: \"form\" }\n",
        "\n",
        "\n",
        "# test_data = projection_df\n",
        "\n",
        "'''\n",
        "make a cell for the two lines below to have the\n",
        "tst data be either specific rows\n",
        "or specific Genre\n",
        "'''\n",
        "\n",
        "# test_data = current_df_test.loc[current_df_test['Genre'] == 'Rock']\n",
        "# test_data = current_df_test.loc[3000:3699]\n",
        "\n",
        "TITLE = \"SOM Visualization\"\n",
        "TOOLS = \"hover,pan,wheel_zoom,box_zoom,reset,save\"\n",
        "\n",
        "\n",
        "\n",
        "p = figure(tools=TOOLS, toolbar_location=\"above\", title=TITLE)\n",
        "p.toolbar.logo = \"grey\"\n",
        "p.background_fill_color = \"#efefef\"\n",
        "p.xaxis.axis_label = \"X-axis\"\n",
        "p.yaxis.axis_label = \"Y-axis\"\n",
        "p.grid.grid_line_color = \"white\"\n",
        "p.hover.tooltips = [\n",
        "    (field, \"@\" + field),\n",
        "]\n",
        "\n",
        "\n",
        "source = ColumnDataSource(test_data)\n",
        "\n",
        "p.scatter(\"proj_x\", \"proj_y\", size=12, source=source, color=\"colors\",line_color=\"black\", alpha=0.9)\n",
        "\n",
        "labels = LabelSet(x=\"X-axis\", y=\"Y-axis\", text=\"symbol\", y_offset=8,\n",
        "                  text_font_size=\"11px\", text_color=\"#555555\",\n",
        "                  source=source, text_align='center')\n",
        "p.add_layout(labels)\n",
        "\n",
        "# show(p) # won't work in colab 😭\n",
        "# @markdown Type here the name of plot\n",
        "plotname = '0-199.html' #@param {type: \"string\"}\n",
        "# @markdown This will be saved in your GDrive in the same folder where the .pkl files are stored\n",
        "\n",
        "# @markdown `Note that if you use the same file name the previous plot wil be overwritten`\n",
        "output_file(plotname)\n",
        "save(p)\n"
      ]
    },
    {
      "cell_type": "markdown",
      "metadata": {
        "id": "m1TsiS1mJQmL"
      },
      "source": [
        "## TO DO\n",
        "* [x] add save functionality for colab integration from [here](https://docs.bokeh.org/en/latest/docs/reference/io.html#bokeh.io.save)\n",
        "* [x] make projecting the other datasets possible\n",
        "* [ ] make downloadable csv files from SOM and DataFrames to be used in JS or other frameworks\n",
        "* [ ] Add more Pandas filtering methods like [queries](https://datagy.io/pandas-query/), see documentation [here](https://pandas.pydata.org/docs/reference/api/pandas.DataFrame.query.html)\n",
        "* [ ] remove nans from datasets"
      ]
    }
  ],
  "metadata": {
    "colab": {
      "provenance": [],
      "toc_visible": true,
      "include_colab_link": true
    },
    "kernelspec": {
      "display_name": "Python 3",
      "name": "python3"
    },
    "language_info": {
      "codemirror_mode": {
        "name": "ipython",
        "version": 3
      },
      "file_extension": ".py",
      "mimetype": "text/x-python",
      "name": "python",
      "nbconvert_exporter": "python",
      "pygments_lexer": "ipython3",
      "version": "3.11.3"
    },
    "accelerator": "TPU",
    "gpuClass": "standard"
  },
  "nbformat": 4,
  "nbformat_minor": 0
}