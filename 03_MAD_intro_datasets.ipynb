{
  "nbformat": 4,
  "nbformat_minor": 0,
  "metadata": {
    "colab": {
      "provenance": [],
      "authorship_tag": "ABX9TyNwi0H2nXUi2CeGbRM06lch",
      "include_colab_link": true
    },
    "kernelspec": {
      "name": "python3",
      "display_name": "Python 3"
    },
    "language_info": {
      "name": "python"
    }
  },
  "cells": [
    {
      "cell_type": "markdown",
      "metadata": {
        "id": "view-in-github",
        "colab_type": "text"
      },
      "source": [
        "<a href=\"https://colab.research.google.com/github/jazoza/mad/blob/main/03_MAD_intro_datasets.ipynb\" target=\"_parent\"><img src=\"https://colab.research.google.com/assets/colab-badge.svg\" alt=\"Open In Colab\"/></a>"
      ]
    },
    {
      "cell_type": "markdown",
      "source": [
        "# Making Arguments with Data\n",
        "\n",
        "Introduction into working with datasets"
      ],
      "metadata": {
        "id": "5dwDMGz_cH5Z"
      }
    },
    {
      "cell_type": "markdown",
      "source": [
        "## Working with SIGID wiki radio dataset\n",
        "\n",
        "Source: Sigid Wiki, https://www.sigidwiki.com/wiki/Signal_Identification_Guide\n"
      ],
      "metadata": {
        "id": "xB5nJP4InySI"
      }
    },
    {
      "cell_type": "markdown",
      "source": [
        "## Locate .pkl files in your own GDrive"
      ],
      "metadata": {
        "id": "2ZfgfrFlTEpd"
      }
    },
    {
      "cell_type": "code",
      "source": [
        "from google.colab import drive\n",
        "drive.mount(\"/content/drive\")"
      ],
      "metadata": {
        "id": "63rbCh_MK3yh"
      },
      "execution_count": null,
      "outputs": []
    },
    {
      "cell_type": "code",
      "source": [
        "# import external packages\n",
        "\n",
        "import pandas as pd\n",
        "import requests"
      ],
      "metadata": {
        "id": "B_XHOQfPozl-"
      },
      "execution_count": null,
      "outputs": []
    },
    {
      "cell_type": "markdown",
      "source": [
        "## Get Radio dataset as JSON"
      ],
      "metadata": {
        "id": "3I9Nexzkn-bH"
      }
    },
    {
      "cell_type": "code",
      "source": [
        "response = requests.get('https://radioexplorations.ch/study-2/data/df_fma_entropy_radio.json')\n",
        "\n",
        "json = response.json()\n",
        "\n",
        "# remove unusable data\n",
        "json.pop('bmus-proj')\n",
        "json.pop('bmus')\n",
        "json.pop('chunks')\n",
        "json.pop('noise')\n",
        "json.pop('imgs_path_high')\n",
        "json.pop('imgs_path_low')"
      ],
      "metadata": {
        "id": "0VMHKfeeo6cE"
      },
      "execution_count": null,
      "outputs": []
    },
    {
      "cell_type": "code",
      "source": [
        "#@title put the dataset into a dataframe\n",
        "df = pd.DataFrame.from_dict(json)"
      ],
      "metadata": {
        "id": "PojjwVRE5sEk"
      },
      "execution_count": null,
      "outputs": []
    },
    {
      "cell_type": "code",
      "source": [
        "#@title show the dataframe\n",
        "df"
      ],
      "metadata": {
        "id": "nYz0dYIX1Fzu"
      },
      "execution_count": null,
      "outputs": []
    },
    {
      "cell_type": "markdown",
      "source": [
        "## Examine the dataset - unique values, co-ocurrences, etc"
      ],
      "metadata": {
        "id": "jkFGjUvdocEM"
      }
    },
    {
      "cell_type": "code",
      "source": [
        "# How many unique signal names?\n",
        "len(df.Signal_type.unique())"
      ],
      "metadata": {
        "id": "AJ_9dYEX2j8I"
      },
      "execution_count": null,
      "outputs": []
    },
    {
      "cell_type": "code",
      "source": [
        "# How many signal names  are duplicates?\n",
        "df.Signal_type.duplicated().sum()"
      ],
      "metadata": {
        "id": "cE9tkaoRpawD"
      },
      "execution_count": null,
      "outputs": []
    },
    {
      "cell_type": "code",
      "source": [
        "# List all countries in which signals have been recorded\n",
        "df.Location.unique()"
      ],
      "metadata": {
        "id": "MSQgOXB6qnAc"
      },
      "execution_count": null,
      "outputs": []
    },
    {
      "cell_type": "code",
      "source": [
        "# Which countries have most recordings? \n",
        "df.Location.value_counts()"
      ],
      "metadata": {
        "id": "_ZgmYh58rNOQ"
      },
      "execution_count": null,
      "outputs": []
    },
    {
      "cell_type": "code",
      "source": [
        "# Which is the most common modulation?\n",
        "df.Modulation.value_counts()"
      ],
      "metadata": {
        "id": "yc5AWVuQriHC"
      },
      "execution_count": null,
      "outputs": []
    },
    {
      "cell_type": "code",
      "source": [
        "# Most common modulations, when they appear more than once:\n",
        "df.Modulation.value_counts()[df.Modulation.value_counts() > 1]"
      ],
      "metadata": {
        "id": "jKw68w-vr2Zo"
      },
      "execution_count": null,
      "outputs": []
    },
    {
      "cell_type": "markdown",
      "source": [],
      "metadata": {
        "id": "LeQI_aK6r2G_"
      }
    },
    {
      "cell_type": "code",
      "source": [],
      "metadata": {
        "id": "coxEW-3coyUX"
      },
      "execution_count": null,
      "outputs": []
    },
    {
      "cell_type": "code",
      "source": [
        "# pivot table js"
      ],
      "metadata": {
        "id": "dJqe9ZZz2sem"
      },
      "execution_count": null,
      "outputs": []
    },
    {
      "cell_type": "markdown",
      "source": [
        "## Importing readymade datasets as 'pickles'"
      ],
      "metadata": {
        "id": "xib5-grfHSvN"
      }
    },
    {
      "cell_type": "code",
      "source": [
        "import pickle \n",
        "! pwd #check working directory, find where your files are\n",
        "%cd /content/drive/MyDrive/\n",
        "!ls"
      ],
      "metadata": {
        "id": "x0p21HMrSMXU"
      },
      "execution_count": null,
      "outputs": []
    },
    {
      "cell_type": "code",
      "source": [
        "folder_path = '/content/drive/MyDrive/datasets-SOM/' # set the path to your files"
      ],
      "metadata": {
        "id": "DGIORb5cGq2n"
      },
      "execution_count": null,
      "outputs": []
    },
    {
      "cell_type": "code",
      "execution_count": null,
      "metadata": {
        "id": "wmzkoRTeJQmH"
      },
      "outputs": [],
      "source": [
        "radio_data_path = folder_path+'radio.pkl'\n",
        "fma_data_path = folder_path+'fma.pkl'\n",
        "xenocanto_data_path = folder_path+'xenocanto.pkl'\n",
        "\n",
        "radio_data = pickle.load(open(radio_data_path, 'rb'))\n",
        "# /\\.\\/(\\w*?)\\//g\n",
        "data_length = len(radio_data['features'])\n",
        "radio_data['known'] = ['NaN'] * data_length\n",
        "index = 0\n",
        "for path in radio_data['Sample_audio']:\n",
        "    if './known/' in path:\n",
        "       radio_data['known'][index] = 'known'\n",
        "    else:\n",
        "        radio_data['known'][index] = 'unknown'\n",
        "    index+=1\n",
        "\n",
        "fma_data = pickle.load(open(fma_data_path, 'rb'))\n",
        "\n",
        "xenocanto_data = pickle.load(open(xenocanto_data_path, 'rb'))"
      ]
    },
    {
      "cell_type": "markdown",
      "source": [
        "## Working with Free Music Archive FMA\n",
        "\n",
        "Source: https://github.com/mdeff/fma "
      ],
      "metadata": {
        "id": "56iuPrPcfOZX"
      }
    },
    {
      "cell_type": "code",
      "execution_count": null,
      "metadata": {
        "id": "6jAvYlb9bZbD"
      },
      "outputs": [],
      "source": [
        "fma_data"
      ]
    },
    {
      "cell_type": "markdown",
      "source": [
        "## Working with XenoCanto\n",
        "\n",
        "Source: https://gist.github.com/rhine3/4829bf66381c7aa05c1f656cec4fa040   \n"
      ],
      "metadata": {
        "id": "FAVvm--mfeZ0"
      }
    },
    {
      "cell_type": "code",
      "source": [
        "xenocanto_data"
      ],
      "metadata": {
        "id": "b5hUwppa2Hfx"
      },
      "execution_count": null,
      "outputs": []
    },
    {
      "cell_type": "code",
      "source": [
        "# From which countries to most recordings come from?\n",
        "xenocanto_data.cnt.value_counts()"
      ],
      "metadata": {
        "id": "98Dnez1jwM-u"
      },
      "execution_count": null,
      "outputs": []
    },
    {
      "cell_type": "code",
      "source": [
        "# Where do which recordists mostly record?\n",
        "xenocanto_data.filter([\"cnt\",\"rec\"]).value_counts()"
      ],
      "metadata": {
        "id": "OY18IBg5wfeY"
      },
      "execution_count": null,
      "outputs": []
    },
    {
      "cell_type": "code",
      "source": [
        "!"
      ],
      "metadata": {
        "id": "yDW9mFVAw8LH"
      },
      "execution_count": null,
      "outputs": []
    }
  ]
}