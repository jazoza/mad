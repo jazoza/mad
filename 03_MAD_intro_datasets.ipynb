{
  "nbformat": 4,
  "nbformat_minor": 0,
  "metadata": {
    "colab": {
      "provenance": [],
      "authorship_tag": "ABX9TyOL1CTy3HG9vKQkHFWLO+IH",
      "include_colab_link": true
    },
    "kernelspec": {
      "name": "python3",
      "display_name": "Python 3"
    },
    "language_info": {
      "name": "python"
    }
  },
  "cells": [
    {
      "cell_type": "markdown",
      "metadata": {
        "id": "view-in-github",
        "colab_type": "text"
      },
      "source": [
        "<a href=\"https://colab.research.google.com/github/jazoza/mad/blob/main/03_MAD_intro_datasets.ipynb\" target=\"_parent\"><img src=\"https://colab.research.google.com/assets/colab-badge.svg\" alt=\"Open In Colab\"/></a>"
      ]
    },
    {
      "cell_type": "markdown",
      "source": [
        "# Making Arguments with Data\n",
        "\n",
        "Introduction into working with datasets"
      ],
      "metadata": {
        "id": "5dwDMGz_cH5Z"
      }
    },
    {
      "cell_type": "markdown",
      "source": [
        "## Working with SIGID wiki radio dataset\n",
        "\n",
        "Source: Sigid Wiki, https://www.sigidwiki.com/wiki/Signal_Identification_Guide\n"
      ],
      "metadata": {
        "id": "xB5nJP4InySI"
      }
    },
    {
      "cell_type": "code",
      "execution_count": null,
      "metadata": {
        "colab": {
          "base_uri": "https://localhost:8080/"
        },
        "id": "EhVn1cimnt-5",
        "outputId": "e47088e8-bf4b-488d-9c37-a07a21d6d54f"
      },
      "outputs": [
        {
          "output_type": "stream",
          "name": "stdout",
          "text": [
            "Looking in indexes: https://pypi.org/simple, https://us-python.pkg.dev/colab-wheels/public/simple/\n",
            "Requirement already satisfied: pandas in /usr/local/lib/python3.7/dist-packages (1.3.5)\n",
            "Requirement already satisfied: numpy>=1.17.3 in /usr/local/lib/python3.7/dist-packages (from pandas) (1.21.6)\n",
            "Requirement already satisfied: pytz>=2017.3 in /usr/local/lib/python3.7/dist-packages (from pandas) (2022.6)\n",
            "Requirement already satisfied: python-dateutil>=2.7.3 in /usr/local/lib/python3.7/dist-packages (from pandas) (2.8.2)\n",
            "Requirement already satisfied: six>=1.5 in /usr/local/lib/python3.7/dist-packages (from python-dateutil>=2.7.3->pandas) (1.15.0)\n",
            "Looking in indexes: https://pypi.org/simple, https://us-python.pkg.dev/colab-wheels/public/simple/\n",
            "Requirement already satisfied: numpy in /usr/local/lib/python3.7/dist-packages (1.21.6)\n",
            "Looking in indexes: https://pypi.org/simple, https://us-python.pkg.dev/colab-wheels/public/simple/\n",
            "Requirement already satisfied: requests in /usr/local/lib/python3.7/dist-packages (2.23.0)\n",
            "Requirement already satisfied: certifi>=2017.4.17 in /usr/local/lib/python3.7/dist-packages (from requests) (2022.9.24)\n",
            "Requirement already satisfied: urllib3!=1.25.0,!=1.25.1,<1.26,>=1.21.1 in /usr/local/lib/python3.7/dist-packages (from requests) (1.24.3)\n",
            "Requirement already satisfied: chardet<4,>=3.0.2 in /usr/local/lib/python3.7/dist-packages (from requests) (3.0.4)\n",
            "Requirement already satisfied: idna<3,>=2.5 in /usr/local/lib/python3.7/dist-packages (from requests) (2.10)\n",
            "Looking in indexes: https://pypi.org/simple, https://us-python.pkg.dev/colab-wheels/public/simple/\n",
            "Requirement already satisfied: mplleaflet in /usr/local/lib/python3.7/dist-packages (0.0.5)\n",
            "Requirement already satisfied: six in /usr/local/lib/python3.7/dist-packages (from mplleaflet) (1.15.0)\n",
            "Requirement already satisfied: jinja2 in /usr/local/lib/python3.7/dist-packages (from mplleaflet) (2.11.3)\n",
            "Requirement already satisfied: MarkupSafe>=0.23 in /usr/local/lib/python3.7/dist-packages (from jinja2->mplleaflet) (2.0.1)\n"
          ]
        }
      ],
      "source": [
        "#@title Install dependencies\n",
        "\n",
        "!pip install pandas\n",
        "!pip install numpy\n",
        "!pip install requests\n",
        "!pip install mplleaflet"
      ]
    },
    {
      "cell_type": "code",
      "source": [
        "#@title import pandas\n",
        "\n",
        "import pandas as pd\n",
        "import requests"
      ],
      "metadata": {
        "id": "B_XHOQfPozl-"
      },
      "execution_count": null,
      "outputs": []
    },
    {
      "cell_type": "code",
      "source": [
        "#@title get radio dataset as JSON\n",
        "response = requests.get('https://radioexplorations.ch/study-2/data/df_fma_entropy_radio.json')\n",
        "\n",
        "json = response.json()\n",
        "\n",
        "# remove unusable data\n",
        "json.pop('bmus-proj')\n",
        "json.pop('bmus')\n",
        "json.pop('chunks')\n",
        "json.pop('noise')\n",
        "json.pop('imgs_path_high')\n",
        "json.pop('imgs_path_low')"
      ],
      "metadata": {
        "id": "0VMHKfeeo6cE"
      },
      "execution_count": null,
      "outputs": []
    },
    {
      "cell_type": "code",
      "source": [
        "#@title put the dataset into a dataframe\n",
        "df = pd.DataFrame.from_dict(json)"
      ],
      "metadata": {
        "id": "PojjwVRE5sEk"
      },
      "execution_count": null,
      "outputs": []
    },
    {
      "cell_type": "code",
      "source": [
        "#@title show the dataframe\n",
        "df"
      ],
      "metadata": {
        "colab": {
          "base_uri": "https://localhost:8080/",
          "height": 999
        },
        "id": "nYz0dYIX1Fzu",
        "outputId": "f6fe8820-1464-4c9c-b0b0-d0e738afaf87"
      },
      "execution_count": null,
      "outputs": [
        {
          "output_type": "execute_result",
          "data": {
            "text/plain": [
              "                              Signal_type  \\\n",
              "0                      'Ghadir' OTH Radar   \n",
              "1                      'OTH-SW' OTH Radar   \n",
              "2                             260,722 MHz   \n",
              "3              29B6 'Kontayner' OTH Radar   \n",
              "4                         2G CDMA (IS-95)   \n",
              "..                                    ...   \n",
              "597  Weird Signal on Multiple Frequencies   \n",
              "598                         Weird pulsing   \n",
              "599           Weird signal on 10321.5 khz   \n",
              "600        Wide signal unknown modulation   \n",
              "601    Wideband noise centred on 14030kHz   \n",
              "\n",
              "                                           Description    Frequency  \\\n",
              "0    'Ghadir', is an Iranian over the horizon radar...   19000000.0   \n",
              "1    The PRCOTHOver The Horizon (very long range)-S...    8000000.0   \n",
              "2          Continuous signal with FHSS 'Waterdroplets'  135361000.0   \n",
              "3    29B6, nicknamed 'Kontayner', is a Russian over...    8050000.0   \n",
              "4    2GCDMACode Division Multiple Access, also know...  430000000.0   \n",
              "..                                                 ...          ...   \n",
              "597  For some reason I've been scanning frequencies...          0.0   \n",
              "598  Just found this while i was looking through a ...   13550000.0   \n",
              "599                                                NaN          0.0   \n",
              "600   Wide short, sometimes long burst of modem noise.  152480000.0   \n",
              "601  Wideband noise, 15dB above usual noise floor, ...   14030000.0   \n",
              "\n",
              "                                                  Mode  \\\n",
              "0                               AMAmplitude Modulation   \n",
              "1    USBUpper Side Band Modulation (Radio, referrin...   \n",
              "2                                                  NaN   \n",
              "3    USBUpper Side Band Modulation (Radio, referrin...   \n",
              "4                               AMAmplitude Modulation   \n",
              "..                                                 ...   \n",
              "597                                                NaN   \n",
              "598                                                NaN   \n",
              "599                                                NaN   \n",
              "600                                                NaN   \n",
              "601                                                NaN   \n",
              "\n",
              "                                            Modulation  Bandwidth  \\\n",
              "0                                                Pulse    35000.0   \n",
              "1                                                 FMCW    25000.0   \n",
              "2                                    CWContinuous Wave    15000.0   \n",
              "3                                                 FMOP     6750.0   \n",
              "4    QPSKQuadrature Phase-Shift Keying (2 bits per ...  5614000.0   \n",
              "..                                                 ...        ...   \n",
              "597                                                NaN        0.0   \n",
              "598                                                NaN        0.0   \n",
              "599                                                NaN     2500.0   \n",
              "600                                                NaN  2000000.0   \n",
              "601                                                NaN    30000.0   \n",
              "\n",
              "        Location                                       Sample_audio  \\\n",
              "0           Iran  ./known/0001__Ghadir_OTH_Radar/0001__Ghadir_OT...   \n",
              "1          China  ./known/0002__OTH_SW_OTH_Radar/0002__OTH_SW_OT...   \n",
              "2    Russia, VGG      ./known/0003_260_722_MHz/0003_260_722_MHz.mp3   \n",
              "3         Russia  ./known/0004_29B6_Kontayner_OTH_Radar/0004_29B...   \n",
              "4            NaN  ./known/0005_2G_CDMA_IS_95_/0005_2G_CDMA_IS_95...   \n",
              "..           ...                                                ...   \n",
              "597          NaN  ./unknown/0271_Weird_Signal_on_Multiple_Freque...   \n",
              "598          NaN  ./unknown/0273_Weird_pulsing/0273_Weird_pulsin...   \n",
              "599          NaN  ./unknown/0274_Weird_signal_on_10321_5_khz/027...   \n",
              "600          NaN  ./unknown/0277_Wide_signal_unknown_modulation/...   \n",
              "601          NaN  ./unknown/0278_Wideband_noise_centred_on_14030...   \n",
              "\n",
              "                                       Waterfall_image  \n",
              "0    ./known/0001__Ghadir_OTH_Radar/0001__Ghadir_OT...  \n",
              "1    ./known/0002__OTH_SW_OTH_Radar/0002__OTH_SW_OT...  \n",
              "2        ./known/0003_260_722_MHz/0003_260_722_MHz.png  \n",
              "3    ./known/0004_29B6_Kontayner_OTH_Radar/0004_29B...  \n",
              "4    ./known/0005_2G_CDMA_IS_95_/0005_2G_CDMA_IS_95...  \n",
              "..                                                 ...  \n",
              "597  ./unknown/0271_Weird_Signal_on_Multiple_Freque...  \n",
              "598  ./unknown/0273_Weird_pulsing/0273_Weird_pulsin...  \n",
              "599  ./unknown/0274_Weird_signal_on_10321_5_khz/027...  \n",
              "600  ./unknown/0277_Wide_signal_unknown_modulation/...  \n",
              "601  ./unknown/0278_Wideband_noise_centred_on_14030...  \n",
              "\n",
              "[602 rows x 9 columns]"
            ],
            "text/html": [
              "\n",
              "  <div id=\"df-377d72aa-2eb3-4f56-9cd7-d9b95a2c3cbf\">\n",
              "    <div class=\"colab-df-container\">\n",
              "      <div>\n",
              "<style scoped>\n",
              "    .dataframe tbody tr th:only-of-type {\n",
              "        vertical-align: middle;\n",
              "    }\n",
              "\n",
              "    .dataframe tbody tr th {\n",
              "        vertical-align: top;\n",
              "    }\n",
              "\n",
              "    .dataframe thead th {\n",
              "        text-align: right;\n",
              "    }\n",
              "</style>\n",
              "<table border=\"1\" class=\"dataframe\">\n",
              "  <thead>\n",
              "    <tr style=\"text-align: right;\">\n",
              "      <th></th>\n",
              "      <th>Signal_type</th>\n",
              "      <th>Description</th>\n",
              "      <th>Frequency</th>\n",
              "      <th>Mode</th>\n",
              "      <th>Modulation</th>\n",
              "      <th>Bandwidth</th>\n",
              "      <th>Location</th>\n",
              "      <th>Sample_audio</th>\n",
              "      <th>Waterfall_image</th>\n",
              "    </tr>\n",
              "  </thead>\n",
              "  <tbody>\n",
              "    <tr>\n",
              "      <th>0</th>\n",
              "      <td>'Ghadir' OTH Radar</td>\n",
              "      <td>'Ghadir', is an Iranian over the horizon radar...</td>\n",
              "      <td>19000000.0</td>\n",
              "      <td>AMAmplitude Modulation</td>\n",
              "      <td>Pulse</td>\n",
              "      <td>35000.0</td>\n",
              "      <td>Iran</td>\n",
              "      <td>./known/0001__Ghadir_OTH_Radar/0001__Ghadir_OT...</td>\n",
              "      <td>./known/0001__Ghadir_OTH_Radar/0001__Ghadir_OT...</td>\n",
              "    </tr>\n",
              "    <tr>\n",
              "      <th>1</th>\n",
              "      <td>'OTH-SW' OTH Radar</td>\n",
              "      <td>The PRCOTHOver The Horizon (very long range)-S...</td>\n",
              "      <td>8000000.0</td>\n",
              "      <td>USBUpper Side Band Modulation (Radio, referrin...</td>\n",
              "      <td>FMCW</td>\n",
              "      <td>25000.0</td>\n",
              "      <td>China</td>\n",
              "      <td>./known/0002__OTH_SW_OTH_Radar/0002__OTH_SW_OT...</td>\n",
              "      <td>./known/0002__OTH_SW_OTH_Radar/0002__OTH_SW_OT...</td>\n",
              "    </tr>\n",
              "    <tr>\n",
              "      <th>2</th>\n",
              "      <td>260,722 MHz</td>\n",
              "      <td>Continuous signal with FHSS 'Waterdroplets'</td>\n",
              "      <td>135361000.0</td>\n",
              "      <td>NaN</td>\n",
              "      <td>CWContinuous Wave</td>\n",
              "      <td>15000.0</td>\n",
              "      <td>Russia, VGG</td>\n",
              "      <td>./known/0003_260_722_MHz/0003_260_722_MHz.mp3</td>\n",
              "      <td>./known/0003_260_722_MHz/0003_260_722_MHz.png</td>\n",
              "    </tr>\n",
              "    <tr>\n",
              "      <th>3</th>\n",
              "      <td>29B6 'Kontayner' OTH Radar</td>\n",
              "      <td>29B6, nicknamed 'Kontayner', is a Russian over...</td>\n",
              "      <td>8050000.0</td>\n",
              "      <td>USBUpper Side Band Modulation (Radio, referrin...</td>\n",
              "      <td>FMOP</td>\n",
              "      <td>6750.0</td>\n",
              "      <td>Russia</td>\n",
              "      <td>./known/0004_29B6_Kontayner_OTH_Radar/0004_29B...</td>\n",
              "      <td>./known/0004_29B6_Kontayner_OTH_Radar/0004_29B...</td>\n",
              "    </tr>\n",
              "    <tr>\n",
              "      <th>4</th>\n",
              "      <td>2G CDMA (IS-95)</td>\n",
              "      <td>2GCDMACode Division Multiple Access, also know...</td>\n",
              "      <td>430000000.0</td>\n",
              "      <td>AMAmplitude Modulation</td>\n",
              "      <td>QPSKQuadrature Phase-Shift Keying (2 bits per ...</td>\n",
              "      <td>5614000.0</td>\n",
              "      <td>NaN</td>\n",
              "      <td>./known/0005_2G_CDMA_IS_95_/0005_2G_CDMA_IS_95...</td>\n",
              "      <td>./known/0005_2G_CDMA_IS_95_/0005_2G_CDMA_IS_95...</td>\n",
              "    </tr>\n",
              "    <tr>\n",
              "      <th>...</th>\n",
              "      <td>...</td>\n",
              "      <td>...</td>\n",
              "      <td>...</td>\n",
              "      <td>...</td>\n",
              "      <td>...</td>\n",
              "      <td>...</td>\n",
              "      <td>...</td>\n",
              "      <td>...</td>\n",
              "      <td>...</td>\n",
              "    </tr>\n",
              "    <tr>\n",
              "      <th>597</th>\n",
              "      <td>Weird Signal on Multiple Frequencies</td>\n",
              "      <td>For some reason I've been scanning frequencies...</td>\n",
              "      <td>0.0</td>\n",
              "      <td>NaN</td>\n",
              "      <td>NaN</td>\n",
              "      <td>0.0</td>\n",
              "      <td>NaN</td>\n",
              "      <td>./unknown/0271_Weird_Signal_on_Multiple_Freque...</td>\n",
              "      <td>./unknown/0271_Weird_Signal_on_Multiple_Freque...</td>\n",
              "    </tr>\n",
              "    <tr>\n",
              "      <th>598</th>\n",
              "      <td>Weird pulsing</td>\n",
              "      <td>Just found this while i was looking through a ...</td>\n",
              "      <td>13550000.0</td>\n",
              "      <td>NaN</td>\n",
              "      <td>NaN</td>\n",
              "      <td>0.0</td>\n",
              "      <td>NaN</td>\n",
              "      <td>./unknown/0273_Weird_pulsing/0273_Weird_pulsin...</td>\n",
              "      <td>./unknown/0273_Weird_pulsing/0273_Weird_pulsin...</td>\n",
              "    </tr>\n",
              "    <tr>\n",
              "      <th>599</th>\n",
              "      <td>Weird signal on 10321.5 khz</td>\n",
              "      <td>NaN</td>\n",
              "      <td>0.0</td>\n",
              "      <td>NaN</td>\n",
              "      <td>NaN</td>\n",
              "      <td>2500.0</td>\n",
              "      <td>NaN</td>\n",
              "      <td>./unknown/0274_Weird_signal_on_10321_5_khz/027...</td>\n",
              "      <td>./unknown/0274_Weird_signal_on_10321_5_khz/027...</td>\n",
              "    </tr>\n",
              "    <tr>\n",
              "      <th>600</th>\n",
              "      <td>Wide signal unknown modulation</td>\n",
              "      <td>Wide short, sometimes long burst of modem noise.</td>\n",
              "      <td>152480000.0</td>\n",
              "      <td>NaN</td>\n",
              "      <td>NaN</td>\n",
              "      <td>2000000.0</td>\n",
              "      <td>NaN</td>\n",
              "      <td>./unknown/0277_Wide_signal_unknown_modulation/...</td>\n",
              "      <td>./unknown/0277_Wide_signal_unknown_modulation/...</td>\n",
              "    </tr>\n",
              "    <tr>\n",
              "      <th>601</th>\n",
              "      <td>Wideband noise centred on 14030kHz</td>\n",
              "      <td>Wideband noise, 15dB above usual noise floor, ...</td>\n",
              "      <td>14030000.0</td>\n",
              "      <td>NaN</td>\n",
              "      <td>NaN</td>\n",
              "      <td>30000.0</td>\n",
              "      <td>NaN</td>\n",
              "      <td>./unknown/0278_Wideband_noise_centred_on_14030...</td>\n",
              "      <td>./unknown/0278_Wideband_noise_centred_on_14030...</td>\n",
              "    </tr>\n",
              "  </tbody>\n",
              "</table>\n",
              "<p>602 rows × 9 columns</p>\n",
              "</div>\n",
              "      <button class=\"colab-df-convert\" onclick=\"convertToInteractive('df-377d72aa-2eb3-4f56-9cd7-d9b95a2c3cbf')\"\n",
              "              title=\"Convert this dataframe to an interactive table.\"\n",
              "              style=\"display:none;\">\n",
              "        \n",
              "  <svg xmlns=\"http://www.w3.org/2000/svg\" height=\"24px\"viewBox=\"0 0 24 24\"\n",
              "       width=\"24px\">\n",
              "    <path d=\"M0 0h24v24H0V0z\" fill=\"none\"/>\n",
              "    <path d=\"M18.56 5.44l.94 2.06.94-2.06 2.06-.94-2.06-.94-.94-2.06-.94 2.06-2.06.94zm-11 1L8.5 8.5l.94-2.06 2.06-.94-2.06-.94L8.5 2.5l-.94 2.06-2.06.94zm10 10l.94 2.06.94-2.06 2.06-.94-2.06-.94-.94-2.06-.94 2.06-2.06.94z\"/><path d=\"M17.41 7.96l-1.37-1.37c-.4-.4-.92-.59-1.43-.59-.52 0-1.04.2-1.43.59L10.3 9.45l-7.72 7.72c-.78.78-.78 2.05 0 2.83L4 21.41c.39.39.9.59 1.41.59.51 0 1.02-.2 1.41-.59l7.78-7.78 2.81-2.81c.8-.78.8-2.07 0-2.86zM5.41 20L4 18.59l7.72-7.72 1.47 1.35L5.41 20z\"/>\n",
              "  </svg>\n",
              "      </button>\n",
              "      \n",
              "  <style>\n",
              "    .colab-df-container {\n",
              "      display:flex;\n",
              "      flex-wrap:wrap;\n",
              "      gap: 12px;\n",
              "    }\n",
              "\n",
              "    .colab-df-convert {\n",
              "      background-color: #E8F0FE;\n",
              "      border: none;\n",
              "      border-radius: 50%;\n",
              "      cursor: pointer;\n",
              "      display: none;\n",
              "      fill: #1967D2;\n",
              "      height: 32px;\n",
              "      padding: 0 0 0 0;\n",
              "      width: 32px;\n",
              "    }\n",
              "\n",
              "    .colab-df-convert:hover {\n",
              "      background-color: #E2EBFA;\n",
              "      box-shadow: 0px 1px 2px rgba(60, 64, 67, 0.3), 0px 1px 3px 1px rgba(60, 64, 67, 0.15);\n",
              "      fill: #174EA6;\n",
              "    }\n",
              "\n",
              "    [theme=dark] .colab-df-convert {\n",
              "      background-color: #3B4455;\n",
              "      fill: #D2E3FC;\n",
              "    }\n",
              "\n",
              "    [theme=dark] .colab-df-convert:hover {\n",
              "      background-color: #434B5C;\n",
              "      box-shadow: 0px 1px 3px 1px rgba(0, 0, 0, 0.15);\n",
              "      filter: drop-shadow(0px 1px 2px rgba(0, 0, 0, 0.3));\n",
              "      fill: #FFFFFF;\n",
              "    }\n",
              "  </style>\n",
              "\n",
              "      <script>\n",
              "        const buttonEl =\n",
              "          document.querySelector('#df-377d72aa-2eb3-4f56-9cd7-d9b95a2c3cbf button.colab-df-convert');\n",
              "        buttonEl.style.display =\n",
              "          google.colab.kernel.accessAllowed ? 'block' : 'none';\n",
              "\n",
              "        async function convertToInteractive(key) {\n",
              "          const element = document.querySelector('#df-377d72aa-2eb3-4f56-9cd7-d9b95a2c3cbf');\n",
              "          const dataTable =\n",
              "            await google.colab.kernel.invokeFunction('convertToInteractive',\n",
              "                                                     [key], {});\n",
              "          if (!dataTable) return;\n",
              "\n",
              "          const docLinkHtml = 'Like what you see? Visit the ' +\n",
              "            '<a target=\"_blank\" href=https://colab.research.google.com/notebooks/data_table.ipynb>data table notebook</a>'\n",
              "            + ' to learn more about interactive tables.';\n",
              "          element.innerHTML = '';\n",
              "          dataTable['output_type'] = 'display_data';\n",
              "          await google.colab.output.renderOutput(dataTable, element);\n",
              "          const docLink = document.createElement('div');\n",
              "          docLink.innerHTML = docLinkHtml;\n",
              "          element.appendChild(docLink);\n",
              "        }\n",
              "      </script>\n",
              "    </div>\n",
              "  </div>\n",
              "  "
            ]
          },
          "metadata": {},
          "execution_count": 12
        }
      ]
    },
    {
      "cell_type": "code",
      "source": [
        "# visualize this "
      ],
      "metadata": {
        "id": "AJ_9dYEX2j8I"
      },
      "execution_count": null,
      "outputs": []
    },
    {
      "cell_type": "code",
      "source": [
        "# pivot table js"
      ],
      "metadata": {
        "id": "dJqe9ZZz2sem"
      },
      "execution_count": null,
      "outputs": []
    },
    {
      "cell_type": "markdown",
      "source": [
        "## Working with Free Music Archive FMA\n",
        "\n",
        "Source: https://github.com/mdeff/fma "
      ],
      "metadata": {
        "id": "56iuPrPcfOZX"
      }
    },
    {
      "cell_type": "code",
      "execution_count": null,
      "metadata": {
        "id": "6jAvYlb9bZbD"
      },
      "outputs": [],
      "source": [
        "import # smth"
      ]
    },
    {
      "cell_type": "markdown",
      "source": [
        "## Working with XenoCanto\n",
        "\n",
        "Source: https://gist.github.com/rhine3/4829bf66381c7aa05c1f656cec4fa040   \n"
      ],
      "metadata": {
        "id": "FAVvm--mfeZ0"
      }
    },
    {
      "cell_type": "code",
      "source": [
        "import # smth"
      ],
      "metadata": {
        "id": "b5hUwppa2Hfx"
      },
      "execution_count": null,
      "outputs": []
    }
  ]
}