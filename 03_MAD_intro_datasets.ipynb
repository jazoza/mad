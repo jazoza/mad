{
  "nbformat": 4,
  "nbformat_minor": 0,
  "metadata": {
    "colab": {
      "provenance": [],
      "authorship_tag": "ABX9TyOL1CTy3HG9vKQkHFWLO+IH",
      "include_colab_link": true
    },
    "kernelspec": {
      "name": "python3",
      "display_name": "Python 3"
    },
    "language_info": {
      "name": "python"
    }
  },
  "cells": [
    {
      "cell_type": "markdown",
      "metadata": {
        "id": "view-in-github",
        "colab_type": "text"
      },
      "source": [
        "<a href=\"https://colab.research.google.com/github/jazoza/mad/blob/main/03_MAD_intro_datasets.ipynb\" target=\"_parent\"><img src=\"https://colab.research.google.com/assets/colab-badge.svg\" alt=\"Open In Colab\"/></a>"
      ]
    },
    {
      "cell_type": "markdown",
      "source": [
        "# Making Arguments with Data\n",
        "\n",
        "Introduction into working with datasets"
      ],
      "metadata": {
        "id": "5dwDMGz_cH5Z"
      }
    },
    {
      "cell_type": "markdown",
      "source": [
        "## Working with SIGID wiki radio dataset\n",
        "\n",
        "Source: Sigid Wiki, https://www.sigidwiki.com/wiki/Signal_Identification_Guide\n"
      ],
      "metadata": {
        "id": "xB5nJP4InySI"
      }
    },
    {
      "cell_type": "code",
      "execution_count": null,
      "metadata": {
        "id": "EhVn1cimnt-5"
      },
      "outputs": [],
      "source": [
        "#@title Install dependencies\n",
        "\n",
        "!pip install pandas\n",
        "!pip install numpy\n",
        "!pip install requests\n",
        "!pip install mplleaflet"
      ]
    },
    {
      "cell_type": "code",
      "source": [
        "#@title import pandas\n",
        "\n",
        "import pandas as pd\n",
        "import requests"
      ],
      "metadata": {
        "id": "B_XHOQfPozl-"
      },
      "execution_count": null,
      "outputs": []
    },
    {
      "cell_type": "code",
      "source": [
        "#@title get radio dataset as JSON\n",
        "response = requests.get('https://radioexplorations.ch/study-2/data/df_fma_entropy_radio.json')\n",
        "\n",
        "json = response.json()\n",
        "\n",
        "# remove unusable data\n",
        "json.pop('bmus-proj')\n",
        "json.pop('bmus')\n",
        "json.pop('chunks')\n",
        "json.pop('noise')\n",
        "json.pop('imgs_path_high')\n",
        "json.pop('imgs_path_low')"
      ],
      "metadata": {
        "id": "0VMHKfeeo6cE"
      },
      "execution_count": null,
      "outputs": []
    },
    {
      "cell_type": "code",
      "source": [
        "#@title put the dataset into a dataframe\n",
        "df = pd.DataFrame.from_dict(json)"
      ],
      "metadata": {
        "id": "PojjwVRE5sEk"
      },
      "execution_count": null,
      "outputs": []
    },
    {
      "cell_type": "code",
      "source": [
        "#@title show the dataframe\n",
        "df"
      ],
      "metadata": {
        "id": "nYz0dYIX1Fzu"
      },
      "execution_count": null,
      "outputs": []
    },
    {
      "cell_type": "code",
      "source": [
        "# visualize this "
      ],
      "metadata": {
        "id": "AJ_9dYEX2j8I"
      },
      "execution_count": null,
      "outputs": []
    },
    {
      "cell_type": "code",
      "source": [
        "# pivot table js"
      ],
      "metadata": {
        "id": "dJqe9ZZz2sem"
      },
      "execution_count": null,
      "outputs": []
    },
    {
      "cell_type": "markdown",
      "source": [
        "## Working with Free Music Archive FMA\n",
        "\n",
        "Source: https://github.com/mdeff/fma "
      ],
      "metadata": {
        "id": "56iuPrPcfOZX"
      }
    },
    {
      "cell_type": "code",
      "execution_count": null,
      "metadata": {
        "id": "6jAvYlb9bZbD"
      },
      "outputs": [],
      "source": [
        "import # smth"
      ]
    },
    {
      "cell_type": "markdown",
      "source": [
        "## Working with XenoCanto\n",
        "\n",
        "Source: https://gist.github.com/rhine3/4829bf66381c7aa05c1f656cec4fa040   \n"
      ],
      "metadata": {
        "id": "FAVvm--mfeZ0"
      }
    },
    {
      "cell_type": "code",
      "source": [
        "import # smth"
      ],
      "metadata": {
        "id": "b5hUwppa2Hfx"
      },
      "execution_count": null,
      "outputs": []
    }
  ]
}