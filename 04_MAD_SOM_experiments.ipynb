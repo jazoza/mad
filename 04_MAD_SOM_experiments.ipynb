{
  "nbformat": 4,
  "nbformat_minor": 0,
  "metadata": {
    "colab": {
      "provenance": [],
      "toc_visible": true,
      "authorship_tag": "ABX9TyNCOpjw4FaCqc/b0Q8jcDr9",
      "include_colab_link": true
    },
    "kernelspec": {
      "name": "python3",
      "display_name": "Python 3"
    },
    "language_info": {
      "name": "python"
    }
  },
  "cells": [
    {
      "cell_type": "markdown",
      "metadata": {
        "id": "view-in-github",
        "colab_type": "text"
      },
      "source": [
        "<a href=\"https://colab.research.google.com/github/jazoza/mad/blob/main/04_MAD_SOM_experiments.ipynb\" target=\"_parent\"><img src=\"https://colab.research.google.com/assets/colab-badge.svg\" alt=\"Open In Colab\"/></a>"
      ]
    },
    {
      "cell_type": "markdown",
      "source": [
        "# Making Arguments with Data\n",
        "\n",
        "Experiments with clustering and projecting"
      ],
      "metadata": {
        "id": "Yx4oqarbQlkE"
      }
    },
    {
      "cell_type": "markdown",
      "source": [
        "## Installing and importing necessary packages"
      ],
      "metadata": {
        "id": "ZFbrnOu9ALAD"
      }
    },
    {
      "cell_type": "code",
      "source": [
        "!pip install susi"
      ],
      "metadata": {
        "id": "48D9NSumAIj2"
      },
      "execution_count": null,
      "outputs": []
    },
    {
      "cell_type": "code",
      "execution_count": null,
      "metadata": {
        "id": "BeUAXgSDG56z"
      },
      "outputs": [],
      "source": [
        "import numpy as np\n",
        "import matplotlib.pyplot as plt\n",
        "import math\n",
        "import susi\n",
        "import json\n",
        "import pickle\n",
        "import requests\n",
        "import pandas as pd\n",
        "from susi.SOMPlots import plot_nbh_dist_weight_matrix, plot_umatrix, plot_estimation_map, plot_som_histogram\n",
        "from bokeh.models import ColumnDataSource, LabelSet\n",
        "from bokeh.plotting import figure, show, output_file, save\n",
        "from bokeh.io import output_notebook\n",
        "output_notebook()"
      ]
    },
    {
      "cell_type": "markdown",
      "source": [
        "## Add .pkl files to your own GDrive"
      ],
      "metadata": {
        "id": "2ZfgfrFlTEpd"
      }
    },
    {
      "cell_type": "code",
      "source": [
        "from google.colab import drive\n",
        "drive.mount(\"/content/drive\")"
      ],
      "metadata": {
        "id": "63rbCh_MK3yh"
      },
      "execution_count": null,
      "outputs": []
    },
    {
      "cell_type": "markdown",
      "source": [
        "## Getting the path to files\n",
        "When your GDrive is loaded, find the folder containing the .pkl files that were provided. Than right click the folder containing it and select `Copy path`.\n",
        "Paste it in the cell below replacing the path that follows the `%cd` command"
      ],
      "metadata": {
        "id": "MNw7EWC0Swif"
      }
    },
    {
      "cell_type": "code",
      "source": [
        "! pwd #check working directory, find where your files are\n",
        "%cd /content/drive/MyDrive/\n",
        "!ls"
      ],
      "metadata": {
        "id": "x0p21HMrSMXU"
      },
      "execution_count": null,
      "outputs": []
    },
    {
      "cell_type": "code",
      "source": [
        "folder_path = '/content/drive/MyDrive/datasets-SOM/' # set the path to your files"
      ],
      "metadata": {
        "id": "B1jYT4M8FcDm"
      },
      "execution_count": null,
      "outputs": []
    },
    {
      "cell_type": "code",
      "execution_count": null,
      "metadata": {
        "id": "wmzkoRTeJQmH"
      },
      "outputs": [],
      "source": [
        "radio_data_path = folder_path+'radio.pkl'\n",
        "fma_data_path = folder_path+'fma.pkl'\n",
        "xenocanto_data_path = folder_path+'xenocanto.pkl'\n",
        "\n",
        "radio_data = pickle.load(open(radio_data_path, 'rb'))\n",
        "# /\\.\\/(\\w*?)\\//g\n",
        "data_length = len(radio_data['features'])\n",
        "radio_data['known'] = ['NaN'] * data_length\n",
        "index = 0\n",
        "for path in radio_data['Sample_audio']:\n",
        "    if './known/' in path:\n",
        "       radio_data['known'][index] = 'known'\n",
        "    else:\n",
        "        radio_data['known'][index] = 'unknown'\n",
        "    index+=1\n",
        "\n",
        "fma_data = pickle.load(open(fma_data_path, 'rb'))\n",
        "\n",
        "xenocanto_data = pickle.load(open(xenocanto_data_path, 'rb'))\n",
        "\n",
        "datasets = {\n",
        "    \"fma\": fma_data,\n",
        "    \"radio\": radio_data,\n",
        "    \"xenocanto\": xenocanto_data,\n",
        "}"
      ]
    },
    {
      "cell_type": "code",
      "source": [
        "fma_data"
      ],
      "metadata": {
        "id": "iN5nXJPuMchD"
      },
      "execution_count": null,
      "outputs": []
    },
    {
      "cell_type": "markdown",
      "metadata": {
        "id": "GZrbxyFIJQmI"
      },
      "source": [
        "## Load SOM"
      ]
    },
    {
      "cell_type": "code",
      "source": [
        "# @title Choose the data you want to work with\n",
        "# @markdown `You can select between FMA, Xenocanto and Radio`\n",
        "selector = \"fma\" # @param [\"fma\", \"radio\", \"xenocanto\"]\n",
        "current_df = datasets[selector]\n",
        "data_length = len(current_df)\n",
        "train_amount = math.floor(len(current_df) / 4) * 3\n",
        "current_df_train = current_df.loc[0:train_amount-1]\n",
        "train_data = current_df.loc[0:train_amount-1]\n",
        "train_data = [np.ravel(item) for item in train_data['mfcc']]\n",
        "test_data = current_df.loc[train_amount:data_length-1]\n",
        "current_df_test = current_df.loc[train_amount:data_length-1]\n",
        "test_data = [np.ravel(item) for item in test_data['mfcc']]"
      ],
      "metadata": {
        "id": "jA61adl6QcHZ"
      },
      "execution_count": null,
      "outputs": []
    },
    {
      "cell_type": "code",
      "execution_count": null,
      "metadata": {
        "id": "kn-D3Oi9rIM3"
      },
      "outputs": [],
      "source": [
        "# update dataframe\n",
        "projection = som.transform(test_data)\n",
        "X = [x[0] for x in projection]\n",
        "Y = [x[1] for x in projection]\n",
        "\n",
        "current_df_test['proj_x'] = X\n",
        "current_df_test['proj_y'] = Y\n",
        "proj = [[x[0], x[1]] for x in projection]\n",
        "current_df_test['proj'] = proj"
      ]
    },
    {
      "cell_type": "code",
      "execution_count": null,
      "metadata": {
        "id": "t7Oy0PHAJQmI"
      },
      "outputs": [],
      "source": [
        "#@markdown `Be sure to be in the correct folder!`\n",
        "som_path = folder_path+'som_fma.pkl' #@param {type: \"string\"}\n",
        "som = pickle.load(open(som_path, 'rb'))"
      ]
    },
    {
      "cell_type": "markdown",
      "metadata": {
        "id": "QCJfeQLbJQmK"
      },
      "source": [
        "## Visualizing the SOM using Bokeh"
      ]
    },
    {
      "cell_type": "code",
      "execution_count": null,
      "metadata": {
        "id": "qRTqblOpJQmK"
      },
      "outputs": [],
      "source": [
        "# @title Build Color palette utility { display-mode: \"form\" }\n",
        "# @markdown This few line of code are used to build color palette\n",
        "import random\n",
        "def build_color_palette(unique):\n",
        "    result = {}\n",
        "    for name in unique:\n",
        "        if type(name).__name__ != 'str':\n",
        "          if math.isnan(float(name)):\n",
        "            name = \"Unknown\"\n",
        "        # Generating a random number in between 0 and 2^24\n",
        "        color = random.randrange(0, 2**24)\n",
        "        # Converting that number from base-10 (decimal) to base-16 (hexadecimal)\n",
        "        hex_color = hex(color)\n",
        "        std_color = \"#\" + hex_color[2:]\n",
        "        result[name] = std_color\n",
        "    print(result)\n",
        "    return result\n",
        "\n",
        "def assign_colors(df, palette, header):\n",
        "    colors = []\n",
        "    for item in df[header]: #this needs to be set in a variable\n",
        "        if type(item).__name__ != 'str':\n",
        "          if math.isnan(float(item)):\n",
        "            item = \"Unknown\"\n",
        "        color = palette[item]\n",
        "        colors.append(color)\n",
        "    df['colors'] = colors\n"
      ]
    },
    {
      "cell_type": "code",
      "source": [
        "# @title Make test data based on multiple categories { display-mode: \"form\" }\n",
        "# @markdown `please insert the values seprated by a space \" \"`\n",
        "category = 'Rock Instrumental Folk' #@param {type:\"string\"}\n",
        "category = category.split()\n",
        "print(category)\n",
        "test_data = current_df_test.loc[current_df_test[field].isin(category)]"
      ],
      "metadata": {
        "id": "suHqEO2o91U0"
      },
      "execution_count": null,
      "outputs": []
    },
    {
      "cell_type": "code",
      "source": [
        "# @title Make test data based on rows from the test dataset { display-mode: \"form\" }\n",
        "# @markdown `depending on the dataset you might have smaller boundaries`\n",
        "\n",
        "# @markdown `so to say less than 199 datapoints`\n",
        "start = 0 #@param {type:\"number\"}\n",
        "end = 199 #@param {type:\"number\"}\n",
        "if end > 999:\n",
        "  end = 999\n",
        "print(end)\n",
        "test_data = current_df_test.loc[train_amount + start:train_amount + end]"
      ],
      "metadata": {
        "id": "QYNlkPGvs-Gy"
      },
      "execution_count": null,
      "outputs": []
    },
    {
      "cell_type": "markdown",
      "source": [
        "### Build Visualization with Bokeh"
      ],
      "metadata": {
        "id": "qsNvInRWDO9a"
      }
    },
    {
      "cell_type": "code",
      "source": [
        "# Select the field that will be displayed in the visualization\n",
        "field = \"Genre\" #@param {type: \"string\"}\n",
        "unique_values = current_df_test[field].unique()\n",
        "print(len(unique_values))\n",
        "palette = build_color_palette(unique_values)\n",
        "assign_colors(current_df_test, palette, field)"
      ],
      "metadata": {
        "id": "j377rBvFDfAh"
      },
      "execution_count": null,
      "outputs": []
    },
    {
      "cell_type": "code",
      "execution_count": null,
      "metadata": {
        "id": "axlpdjCKQfj2"
      },
      "outputs": [],
      "source": [
        "TITLE = \"SOM Visualization\"\n",
        "TOOLS = \"hover,pan,wheel_zoom,box_zoom,reset,save\"\n",
        "\n",
        "\n",
        "p = figure(tools=TOOLS, toolbar_location=\"above\", title=TITLE)\n",
        "p.toolbar.logo = \"grey\"\n",
        "p.background_fill_color = \"#efefef\"\n",
        "p.xaxis.axis_label = \"X-axis\"\n",
        "p.yaxis.axis_label = \"Y-axis\"\n",
        "p.grid.grid_line_color = \"white\"\n",
        "p.hover.tooltips = [\n",
        "    (field, \"@\" + field),\n",
        "]\n",
        "\n",
        "source = ColumnDataSource(test_data)\n",
        "\n",
        "p.scatter(\"proj_x\", \"proj_y\", size=12, source=source, color=\"colors\",line_color=\"black\", alpha=0.9)\n",
        "\n",
        "labels = LabelSet(x=\"X-axis\", y=\"Y-axis\", text=\"symbol\", y_offset=8,\n",
        "                  text_font_size=\"11px\", text_color=\"#555555\",\n",
        "                  source=source, text_align='center')\n",
        "p.add_layout(labels)\n",
        "\n",
        "# @markdown Type here the name of plot\n",
        "plotname = folder_path+'visualisations/index.html' #@param {type: \"string\"}\n",
        "# @markdown This will be saved in your GDrive in the same folder where the .pkl files are stored\n",
        "\n",
        "# @markdown `Note that if you use the same file name the previous plot wil be overwritten`\n",
        "output_file(plotname)\n",
        "save(p)"
      ]
    },
    {
      "cell_type": "markdown",
      "source": [
        "## Projecting Other Datasets"
      ],
      "metadata": {
        "id": "pXsF6WbjD7AW"
      }
    },
    {
      "cell_type": "code",
      "execution_count": null,
      "metadata": {
        "id": "BeMm94seJQmL"
      },
      "outputs": [],
      "source": [
        "# @title Prepare the Dataset to be projected\n",
        "# @markdown Select the Dataset to project on the SOM\n",
        "selector = \"xenocanto\" # @param [\"fma\", \"radio\", \"xenocanto\"]\n",
        "projection_df = datasets[selector]\n",
        "projection_features = [np.ravel(item) for item in projection_df['mfcc']]\n",
        "index = 0\n",
        "nan_indexes = []\n",
        "for f in projection_features:\n",
        "    if np.isnan(f)[0] == True:\n",
        "        nan_indexes.append(index)\n",
        "    index+=1\n",
        "\n",
        "#print(nan_indexes)\n",
        "\n",
        "projection_df = projection_df.drop(nan_indexes)\n",
        "projection_features = np.delete(projection_features, nan_indexes, axis=0)\n",
        "#print(len(projection_features))\n",
        "#print(len(projection_df))\n",
        "\n",
        "projection = som.transform(projection_features)\n",
        "X = [x[0] for x in projection]\n",
        "Y = [x[1] for x in projection]\n",
        "\n",
        "projection_df['proj_x'] = X\n",
        "projection_df['proj_y'] = Y\n",
        "proj = [[x[0], x[1]] for x in projection]\n",
        "projection_df['proj'] = proj"
      ]
    },
    {
      "cell_type": "code",
      "source": [
        "# @title List all the Columns of Projection Dataset { display-mode: \"form\" }\n",
        "projection_df.columns.values.tolist()"
      ],
      "metadata": {
        "id": "DERnQzX2XcQM"
      },
      "execution_count": null,
      "outputs": []
    },
    {
      "cell_type": "code",
      "source": [
        "# @title Choose the field { display-mode: \"form\" }\n",
        "projection_field = \"en\" # @param {type: \"string\"}\n",
        "\n",
        "# drop all the nans!!!\n",
        "\n",
        "unique_values = projection_df[projection_field].unique()\n",
        "# print(unique_values)\n",
        "palette = build_color_palette(unique_values)\n",
        "assign_colors(projection_df, palette, projection_field)"
      ],
      "metadata": {
        "id": "FLrr1Nj2XFSV"
      },
      "execution_count": null,
      "outputs": []
    },
    {
      "cell_type": "code",
      "execution_count": null,
      "metadata": {
        "id": "rE1Kan_lJQmL"
      },
      "outputs": [],
      "source": [
        "# @title Build Visualization with Bokeh\n",
        "# add a variable for the header to be used for the labels\n",
        "\n",
        "test_data = projection_df\n",
        "# test_data = current_df_test.loc[current_df_test['Genre'] == 'Rock']\n",
        "# test_data = current_df_test.loc[3000:3699]\n",
        "\n",
        "TITLE = \"SOM Visualization\"\n",
        "TOOLS = \"hover,pan,wheel_zoom,box_zoom,reset,save\"\n",
        "\n",
        "\n",
        "\n",
        "p = figure(tools=TOOLS, toolbar_location=\"above\", width=1200, title=TITLE)\n",
        "p.toolbar.logo = \"grey\"\n",
        "p.background_fill_color = \"#efefef\"\n",
        "p.xaxis.axis_label = \"X-axis\"\n",
        "p.yaxis.axis_label = \"Y-axis\"\n",
        "p.grid.grid_line_color = \"white\"\n",
        "# here we can add more fields to show in bokeh visualization\n",
        "# needs to be added to the side as input param\n",
        "\n",
        "# @markdown `add multiple fields to be shown on hovering as space \" \" separated list`\n",
        "hover_list = 'gen date' # @param {type:\"string\"}\n",
        "hover_list = hover_list.split()\n",
        "hover_list.append(projection_field)\n",
        "hover_list.append('colors')\n",
        "tooltips = []\n",
        "for item in hover_list:\n",
        "  tooltips.append(\n",
        "      (item, \"@\" + item)\n",
        "  )\n",
        "\n",
        "print(tooltips)\n",
        "p.hover.tooltips = [\n",
        "    (projection_field, \"@\" + projection_field),\n",
        "    (\"gen\", \"@gen\"),\n",
        "    (\"date\", \"@date\")\n",
        "]\n",
        "\n",
        "p.hover.tooltips = tooltips\n",
        "\n",
        "\n",
        "source = ColumnDataSource(test_data)\n",
        "\n",
        "p.scatter(\"proj_x\", \"proj_y\", size=12, source=source, color=\"colors\",line_color=\"black\", alpha=0.9)\n",
        "\n",
        "labels = LabelSet(x=\"X-axis\", y=\"Y-axis\", text=\"symbol\", y_offset=8,\n",
        "                  text_font_size=\"11px\", text_color=\"#555555\",\n",
        "                  source=source, text_align='center')\n",
        "p.add_layout(labels)\n",
        "\n",
        "# show(p)\n",
        "# @markdown Type here the name of plot\n",
        "plotname = folder_path+'visualisations/projection_plot.html' #@param {type: \"string\"}\n",
        "# @markdown This will be saved in your GDrive in the same folder where the .pkl files are stored\n",
        "\n",
        "# @markdown `Note that if you use the same file name the previous plot wil be overwritten`\n",
        "output_file(plotname)\n",
        "save(p)\n"
      ]
    }
  ]
}