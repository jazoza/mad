{
  "nbformat": 4,
  "nbformat_minor": 0,
  "metadata": {
    "colab": {
      "provenance": [],
      "collapsed_sections": [
        "-rxBNxTrRIZc"
      ],
      "authorship_tag": "ABX9TyMsvAMXuBvzHwLgn9vSJ0CW",
      "include_colab_link": true
    },
    "kernelspec": {
      "name": "python3",
      "display_name": "Python 3"
    },
    "language_info": {
      "name": "python"
    }
  },
  "cells": [
    {
      "cell_type": "markdown",
      "metadata": {
        "id": "view-in-github",
        "colab_type": "text"
      },
      "source": [
        "<a href=\"https://colab.research.google.com/github/jazoza/mad/blob/main/01_MAD_intro_python_SOM.ipynb\" target=\"_parent\"><img src=\"https://colab.research.google.com/assets/colab-badge.svg\" alt=\"Open In Colab\"/></a>"
      ]
    },
    {
      "cell_type": "markdown",
      "source": [
        "# Making Arguments with Data\n",
        "\n",
        "Introduction into Python and Self-organizing map (SOM)"
      ],
      "metadata": {
        "id": "C5a5Oh1wcH-N"
      }
    },
    {
      "cell_type": "markdown",
      "source": [
        "## Introduction to Python\n",
        "\n",
        "Python is an object-oriented, interpreted language. The interpreter can be used interactively in this notebook.\n",
        "\n",
        "The boxes below contain Python code. You can click on the box, change the content and then simply start the programme with the play button, or with Shift-Enter (Apple-Enter) and let it execute. Try adding two numbers and see what happens. You can change the numbers directly in the input window."
      ],
      "metadata": {
        "id": "RTU27CAc9-Y6"
      }
    },
    {
      "cell_type": "markdown",
      "source": [
        "#### Basic operations"
      ],
      "metadata": {
        "id": "kW8F5reFABkd"
      }
    },
    {
      "cell_type": "code",
      "source": [
        "2+4+5+2+0+2+3"
      ],
      "metadata": {
        "id": "qCDi8awk-NKv"
      },
      "execution_count": null,
      "outputs": []
    },
    {
      "cell_type": "code",
      "source": [
        "\"2\" + \"4\" + \" \" + \"5\" + \" \" + \"2\" + \"0\" + \"2\" + \"3\""
      ],
      "metadata": {
        "id": "DIgRxv3t_bh1"
      },
      "execution_count": null,
      "outputs": []
    },
    {
      "cell_type": "code",
      "source": [
        "# try some other operations\n",
        "\n",
        "4/2 + 3*6 - 8"
      ],
      "metadata": {
        "id": "XAKic0RHAIbT"
      },
      "execution_count": null,
      "outputs": []
    },
    {
      "cell_type": "code",
      "source": [
        "# notice the floating point (12.0); you can ask for a specific number type, floating point - \"float\" or integer - \"int\"\n",
        "\n",
        "int(4/2 + 3*6 - 8)"
      ],
      "metadata": {
        "id": "KDHeCXf4Ac38"
      },
      "execution_count": null,
      "outputs": []
    },
    {
      "cell_type": "markdown",
      "metadata": {
        "id": "-rxBNxTrRIZc"
      },
      "source": [
        "#### Working with variables\n",
        "\n",
        "A variable is a container for holding certain values, e.g. strings or numbers. In the course of the programme, one can access the value of the variable's content, or assign a new value to them."
      ]
    },
    {
      "cell_type": "code",
      "execution_count": null,
      "metadata": {
        "id": "UygEv-lTRIZc"
      },
      "outputs": [],
      "source": [
        "myVariable = \"Yes\"\n",
        "anotherVariable = \"we can!\"\n",
        "print(myVariable + \" \" + anotherVariable)"
      ]
    },
    {
      "cell_type": "markdown",
      "metadata": {
        "id": "pJxdT-KWRIZe"
      },
      "source": [
        "The variable name is freely selectable, but there are a few words that you are not allowed to use (e.g. python-specific commands like print). Try the addition again and try to change the value of the variable:"
      ]
    },
    {
      "cell_type": "code",
      "execution_count": null,
      "metadata": {
        "id": "WhiGqjPcRIZe"
      },
      "outputs": [],
      "source": [
        "nummer1 = 5\n",
        "nummer2 = 2\n",
        "nummer1 * nummer2\n",
        "nummer1 + nummer2\n",
        "nummer1 - nummer2\n",
        "nummer1 / nummer2"
      ]
    },
    {
      "cell_type": "markdown",
      "metadata": {
        "id": "sdSHkEMDRIZf"
      },
      "source": [
        "Actually, we would expect the command line to spit out 4 values, right? You can use the \"print\" statement to print values in the terminal since the notebook terminal only prints the last command that outputs."
      ]
    },
    {
      "cell_type": "code",
      "execution_count": null,
      "metadata": {
        "id": "yLSKIQflRIZg"
      },
      "outputs": [],
      "source": [
        "i = 5\n",
        "print(i)\n",
        "i = i + 142\n",
        "print(i)\n",
        "i = 43\n",
        "print(i)"
      ]
    },
    {
      "cell_type": "markdown",
      "metadata": {
        "id": "WmN7q23PRIZh"
      },
      "source": [
        "You can make a mistake once in a while. The syntax must always be exact, for example Upper/lower case characters, a typing error such as Print instead of print immediately throws up an error:"
      ]
    },
    {
      "cell_type": "code",
      "execution_count": null,
      "metadata": {
        "id": "x4fv90ykRIZh"
      },
      "outputs": [],
      "source": [
        "Print i\n"
      ]
    },
    {
      "cell_type": "markdown",
      "source": [
        "You get a syntax error. The first line of the error message immediately tells you where the error is. Because our programme has only one line, it is \"line 1\". You can also see that the word print is no longer green, as it was before! Try correcting the cell."
      ],
      "metadata": {
        "id": "VQVwhoORCj5u"
      }
    },
    {
      "cell_type": "markdown",
      "metadata": {
        "id": "YDXBACToRIZj"
      },
      "source": [
        "#### Random numbers\n",
        "\n",
        "Now, let's get to know our first function. Functions are something like little sub-programmes that can give us a certain value.\n",
        "\n",
        "The function randint(m, n) returns a randomly selected number from the number range {m, m+1, ..., n}. A call randint(1, 6) thus returns a natural number between 1 and 6."
      ]
    },
    {
      "cell_type": "code",
      "execution_count": null,
      "metadata": {
        "id": "0NUoqiWTRIZj"
      },
      "outputs": [],
      "source": [
        "randint(1,6)"
      ]
    },
    {
      "cell_type": "markdown",
      "metadata": {
        "id": "HSJ4YEQpRIZk"
      },
      "source": [
        "But we get an error message that 'randint' is not defined. What does this mean? Python is very modular. The random function is an extra module and must first be imported:"
      ]
    },
    {
      "cell_type": "code",
      "execution_count": null,
      "metadata": {
        "collapsed": true,
        "id": "vftRtXmRRIZk"
      },
      "outputs": [],
      "source": [
        "from random import randint\n",
        "randint(1,6)"
      ]
    },
    {
      "cell_type": "markdown",
      "metadata": {
        "id": "9_m08ksTRIZk"
      },
      "source": [
        "Now the **random** module has now been loaded into our notebook and the **randint** function works. Try it many times, try changing the numbers. Bonus: all about random module: https://docs.python.org/3/library/random.html"
      ]
    },
    {
      "cell_type": "code",
      "execution_count": null,
      "metadata": {
        "id": "MN5t08rdRIZk"
      },
      "outputs": [],
      "source": [
        "# come back to numerology....\n",
        "luckyNumber = randint(1,1000000)\n",
        "print('your lucky number today is ', luckyNumber)"
      ]
    },
    {
      "cell_type": "markdown",
      "metadata": {
        "id": "qd2Lw0xSRIZo"
      },
      "source": [
        "A problem that occurs relatively often is when you want to link two different types of data (e.g. a number and a text). See for yourself:"
      ]
    },
    {
      "cell_type": "code",
      "execution_count": null,
      "metadata": {
        "id": "zSXTys5zRIZo"
      },
      "outputs": [],
      "source": [
        "print(\"Your lucky number is: \" + luckyNumber + \" soooo lucky\")\n"
      ]
    },
    {
      "cell_type": "markdown",
      "source": [
        "We have to convert the number - the value of the variable - into a string, like this:"
      ],
      "metadata": {
        "id": "vWSG2jyq8EY0"
      }
    },
    {
      "cell_type": "code",
      "source": [
        "print(\"Your lucky number is: \" + str(luckyNumber) + \" soooo lucky\")"
      ],
      "metadata": {
        "id": "TThKh_QX73jZ"
      },
      "execution_count": null,
      "outputs": []
    },
    {
      "cell_type": "markdown",
      "source": [
        "Now try integrating the random function into this line instead of the variable value, to get a different number every time you run the code:"
      ],
      "metadata": {
        "id": "8-qo86Jf8NfK"
      }
    },
    {
      "cell_type": "code",
      "source": [],
      "metadata": {
        "id": "0IVzMLvG8BmO"
      },
      "execution_count": null,
      "outputs": []
    },
    {
      "cell_type": "markdown",
      "metadata": {
        "id": "IktiBNFERIZl"
      },
      "source": [
        "### Conditional statements\n",
        "\n",
        "At some points in your code , you want to detect or distinguis certain stages/conditions. So far, we have been able to write programmes in which one instruction follows another and they are also executed in this order. In a programming language, a conditional statement means parts of code that are executed under certain conditions. If the condition is not present, this code is not executed.  Normally it looks like this in Python:\n",
        "\n",
        "```\n",
        "if condition1:\n",
        "    instructions1\n",
        "\n",
        "```"
      ]
    },
    {
      "cell_type": "markdown",
      "metadata": {
        "id": "tAG8MFHQRIZl"
      },
      "source": [
        "You see the second line is indented. The tabulator key is used to make the indentation. How do these instructions work? With the condition, you check whether a state is \"true\" or \"false\"."
      ]
    },
    {
      "cell_type": "code",
      "execution_count": null,
      "metadata": {
        "id": "NjbgEFicRIZl"
      },
      "outputs": [],
      "source": [
        "nummer1 = 3\n",
        "nummer2 = 5\n",
        "if nummer1 == nummer2:\n",
        "    print(\"they're the same!!!!\")\n",
        "else:\n",
        "    print(\"not sure which number is bigger\")\n",
        "    print(\"but they're not the same\")\n",
        "    print(\"--------------\")"
      ]
    },
    {
      "cell_type": "markdown",
      "metadata": {
        "id": "t-pYz_NMRIZm"
      },
      "source": [
        "Now try changing the numbers. Suddenly the output disappears because the condition no longer applies. Here you use two == characters to compare the two values. The counterpart to the *if* is the *else*, with which you can catch everything that does not apply:\n"
      ]
    },
    {
      "cell_type": "markdown",
      "metadata": {
        "id": "WI78c_DhRIZn"
      },
      "source": [
        "You can also check if the value exceeds a certain limit with the less and greater sign < >: try to swap the > with the <. Does the output change?"
      ]
    },
    {
      "cell_type": "code",
      "execution_count": null,
      "metadata": {
        "id": "Lj9rsitgRIZn"
      },
      "outputs": [],
      "source": [
        "nummer1 = 5\n",
        "nummer2 = 3\n",
        "if nummer1 > nummer2:\n",
        "    print(\"number 1 is bigger than number 2\")\n",
        "else:\n",
        "    print(\"## number 2 is bigger than number 1\")"
      ]
    },
    {
      "cell_type": "markdown",
      "metadata": {
        "id": "mvlZM5ooRIZq"
      },
      "source": [
        "### Loops\n",
        "\n",
        "You can make the computer do repetitive things quite easily with loops. Loops, are needed to repeatedly execute a block of code, also called a loop body. In Python, there are two types of loops: the while loop and the for loop."
      ]
    },
    {
      "cell_type": "code",
      "execution_count": null,
      "metadata": {
        "id": "OWkPGK0ORIZq"
      },
      "outputs": [],
      "source": [
        "a = 0\n",
        "while a < 4:\n",
        "    #a = a + 1\n",
        "    a += 1\n",
        "    print(a)\n",
        "    print(\"hello world\")\n"
      ]
    },
    {
      "cell_type": "code",
      "execution_count": null,
      "metadata": {
        "id": "kJMio2LARIZq"
      },
      "outputs": [],
      "source": [
        "for i in range(35):\n",
        "    print(\"hello\")\n",
        "    print(i)"
      ]
    },
    {
      "cell_type": "markdown",
      "metadata": {
        "id": "yhstrOGyRIZs"
      },
      "source": [
        "How can you build a down-counting counter from this? Try to think it through on a piece of paper. Tip: you have to subtract something!"
      ]
    },
    {
      "cell_type": "code",
      "execution_count": null,
      "metadata": {
        "id": "y6UcOFg0RIZs",
        "scrolled": false
      },
      "outputs": [],
      "source": []
    },
    {
      "cell_type": "markdown",
      "metadata": {
        "id": "6PZ9VpnvRIZs"
      },
      "source": [
        "### Lists\n",
        "\n",
        "A list can be thought of as an array of single elements. You can create lists of any length, either with numbers or with text, or with both. A list of values (elements) is separated by commas and enclosed in square brackets. To define a list"
      ]
    },
    {
      "cell_type": "code",
      "execution_count": null,
      "metadata": {
        "id": "0rK11-4jRIZs"
      },
      "outputs": [],
      "source": [
        "myList = [\"batman\",\"technoviking\",\"nyancat\"]\n",
        "print(myList)"
      ]
    },
    {
      "cell_type": "markdown",
      "metadata": {
        "id": "eubcnO8vRIZt"
      },
      "source": [
        "Lists are helpful because a lot of data is usually stored via lists. To read the individual texts from the list, you can write:"
      ]
    },
    {
      "cell_type": "code",
      "execution_count": null,
      "metadata": {
        "id": "FoGYjsugRIZt"
      },
      "outputs": [],
      "source": [
        "print(myList[0] + \" is so boring\")\n",
        "print(myList[1] + \" is so boring\")"
      ]
    },
    {
      "cell_type": "markdown",
      "metadata": {
        "id": "DMEnMhi1RIZv"
      },
      "source": [
        "The practical thing is that you can use loops together with lists."
      ]
    },
    {
      "cell_type": "code",
      "execution_count": null,
      "metadata": {
        "id": "nS_qtCQMRIZv"
      },
      "outputs": [],
      "source": [
        "for element in myList:\n",
        "    print(element + \" is so boring\")"
      ]
    },
    {
      "cell_type": "markdown",
      "metadata": {
        "id": "sykulWTrRIZv"
      },
      "source": [
        "If I change the length of the list, I can use the same for loop to output them all:"
      ]
    },
    {
      "cell_type": "code",
      "execution_count": null,
      "metadata": {
        "id": "PZLX4_GkRIZw"
      },
      "outputs": [],
      "source": [
        "myList = [\"batman\",\"saxplayer\",\"technoviking\",\"nyancat\",\"rainbow\",\"double rainbow\",\"waterfall\",\"and so on...\"]\n",
        "for element in myList:\n",
        "    print(element)"
      ]
    },
    {
      "cell_type": "markdown",
      "metadata": {
        "id": "MRajLJ7JRIZw"
      },
      "source": [
        "We can randomly mix up the order in the list with the shuffle function:"
      ]
    },
    {
      "cell_type": "code",
      "execution_count": null,
      "metadata": {
        "id": "4JDRcyhzRIZw"
      },
      "outputs": [],
      "source": [
        "import random\n",
        "random.shuffle(myList)"
      ]
    },
    {
      "cell_type": "markdown",
      "metadata": {
        "id": "I3CmHMdrRIZw"
      },
      "source": [
        "This does nothing at first, at least it looks like it. But the order has already been changed, so if we now output myList, we see the following:"
      ]
    },
    {
      "cell_type": "code",
      "execution_count": null,
      "metadata": {
        "id": "pxbfxngERIZx"
      },
      "outputs": [],
      "source": [
        "myList"
      ]
    },
    {
      "cell_type": "markdown",
      "metadata": {
        "id": "dNQzdCbcRIZx"
      },
      "source": [
        "Now try random.shuffle(mylist) again in the bottom row"
      ]
    },
    {
      "cell_type": "code",
      "execution_count": null,
      "metadata": {
        "collapsed": true,
        "id": "5xDR0WOuRIZx"
      },
      "outputs": [],
      "source": []
    },
    {
      "cell_type": "code",
      "source": [
        "# import and use relevant libraries"
      ],
      "metadata": {
        "id": "RnQqfiOCzMHX"
      },
      "execution_count": null,
      "outputs": []
    },
    {
      "cell_type": "code",
      "execution_count": null,
      "metadata": {
        "id": "1xp7LW6SXrrc"
      },
      "outputs": [],
      "source": [
        "import this # for more eastereggs look here https://xkcd.com/353/"
      ]
    },
    {
      "cell_type": "markdown",
      "source": [
        "## Self-organizing Map (SOM)\n",
        "\n",
        "An artificial neural network (ANN) algorithm for unsupervised machine learning.\n",
        "SOM was introduced by the Finish computer scientist Teuvo Kohonen in 1982. It is used for ordering high-dimensional statistical data so that alike inputs are mapped closer to each other, illustrating the similarity relationships between different data items, that can be explored in an intuitive manner.\n",
        "\n",
        "SOM presents datapoint relationships in two dimensions, by projecting the higher-dimensional onto a low-dimensional space of predetermined size, a sort of a map. Data points with similar features are mapped close together, resulting in clusters.\n",
        "\n",
        "More information: https://en.wikipedia.org/wiki/Self-organizing_map\n"
      ],
      "metadata": {
        "id": "hF97kM2RzPib"
      }
    },
    {
      "cell_type": "code",
      "source": [
        "! pip install susi"
      ],
      "metadata": {
        "id": "Oh3VfI3G9T0q"
      },
      "execution_count": null,
      "outputs": []
    },
    {
      "cell_type": "code",
      "source": [
        "import susi\n",
        "\n",
        "# short intro to working with SOM"
      ],
      "metadata": {
        "id": "TOloTyuT2qrz"
      },
      "execution_count": null,
      "outputs": []
    },
    {
      "cell_type": "markdown",
      "source": [
        "### Clustering and projecting colors"
      ],
      "metadata": {
        "id": "KxUEjDS43CHs"
      }
    },
    {
      "cell_type": "code",
      "source": [
        "import numpy as np\n",
        "import matplotlib.pyplot as plt\n",
        "import math\n",
        "import susi\n",
        "from susi.SOMPlots import plot_nbh_dist_weight_matrix, plot_umatrix, plot_estimation_map, plot_som_histogram"
      ],
      "metadata": {
        "id": "BeUAXgSDG56z"
      },
      "execution_count": null,
      "outputs": []
    },
    {
      "cell_type": "code",
      "source": [
        "rand = np.random.RandomState(0)\n",
        "train_data = rand.randint(0, 255, (3000, 3))\n",
        "# print(train_data)"
      ],
      "metadata": {
        "id": "F7KeH2hTHb_b"
      },
      "execution_count": null,
      "outputs": []
    },
    {
      "cell_type": "code",
      "source": [
        "# @markdown Display the trining data\n",
        "fig, ax = plt.subplots(\n",
        "    nrows=1, ncols=1, figsize=(12, 3.5),\n",
        "    subplot_kw=dict(xticks=[], yticks=[])\n",
        "    )\n",
        "shape_x = 50 # @param{type:\"integer\"}\n",
        "shape_y = 60 # @param{type:\"integer\"}\n",
        "ax.imshow(train_data.reshape(shape_x, shape_y, 3))\n",
        "ax.title.set_text('Training Data')"
      ],
      "metadata": {
        "id": "WIuiRTkFIYhd"
      },
      "execution_count": null,
      "outputs": []
    },
    {
      "cell_type": "code",
      "source": [
        "# 5 * sqrt(number of training samples)\n",
        "grid = math.ceil(5 * math.sqrt(3000))\n",
        "grid = math.floor(math.sqrt(grid))\n",
        "print(grid)\n",
        "\n",
        "# this returns \"ideal\" grid size\n",
        "# maybe is a parameter that students can play around as well"
      ],
      "metadata": {
        "id": "M2QTGrK_Kk7t"
      },
      "execution_count": null,
      "outputs": []
    },
    {
      "cell_type": "code",
      "source": [
        "# @title Unsupervised Learning\n",
        "som = susi.SOMClustering(\n",
        "    n_rows=grid,\n",
        "    n_columns=grid\n",
        ")\n",
        "som.fit(train_data)\n",
        "print(\"SOM fitted!\")"
      ],
      "metadata": {
        "id": "nkrcfz1BLUwd"
      },
      "execution_count": null,
      "outputs": []
    },
    {
      "cell_type": "code",
      "source": [
        "# @title Project Data\n",
        "test_data = rand.randint(20, 200, (3000, 3))\n",
        "result = som.transform(test_data)\n"
      ],
      "metadata": {
        "id": "2sguc64jPedH"
      },
      "execution_count": null,
      "outputs": []
    },
    {
      "cell_type": "code",
      "source": [
        "result = som.transform(train_data)"
      ],
      "metadata": {
        "id": "rx_Ws-dYIp_K"
      },
      "execution_count": null,
      "outputs": []
    },
    {
      "cell_type": "code",
      "source": [
        "X = [x[0] for x in result]\n",
        "Y = [x[1] for x in result]\n",
        "C = test_data\n",
        "fig = plt.figure()\n",
        "ax = fig.add_subplot(111)\n",
        "\n",
        "ax.scatter(X, Y, c = C/255.0)\n",
        "plt.show()"
      ],
      "metadata": {
        "id": "i6ZRB8ILTGK_"
      },
      "execution_count": null,
      "outputs": []
    }
  ]
}