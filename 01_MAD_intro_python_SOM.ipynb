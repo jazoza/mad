{
  "nbformat": 4,
  "nbformat_minor": 0,
  "metadata": {
    "colab": {
      "provenance": [],
      "collapsed_sections": [
        "-rxBNxTrRIZc"
      ],
      "authorship_tag": "ABX9TyPtwOE2xYo2VO27eLFWZL9/",
      "include_colab_link": true
    },
    "kernelspec": {
      "name": "python3",
      "display_name": "Python 3"
    },
    "language_info": {
      "name": "python"
    }
  },
  "cells": [
    {
      "cell_type": "markdown",
      "metadata": {
        "id": "view-in-github",
        "colab_type": "text"
      },
      "source": [
        "<a href=\"https://colab.research.google.com/github/jazoza/mad/blob/main/01_MAD_intro_python_SOM.ipynb\" target=\"_parent\"><img src=\"https://colab.research.google.com/assets/colab-badge.svg\" alt=\"Open In Colab\"/></a>"
      ]
    },
    {
      "cell_type": "markdown",
      "source": [
        "# Making Arguments with Data\n",
        "\n",
        "Introduction into Python and Self-organizing map (SOM)"
      ],
      "metadata": {
        "id": "C5a5Oh1wcH-N"
      }
    },
    {
      "cell_type": "markdown",
      "source": [
        "## Introduction to Python\n",
        "\n",
        "Python is an object-oriented, interpreted language. The interpreter can be used interactively in this notebook.\n",
        "\n",
        "The boxes below contain Python code. You can click on the box, change the content and then simply start the programme with the play button, or with Shift-Enter (Apple-Enter) and let it execute. Try adding two numbers and see what happens. You can change the numbers directly in the input window."
      ],
      "metadata": {
        "id": "RTU27CAc9-Y6"
      }
    },
    {
      "cell_type": "markdown",
      "source": [
        "#### Basic operations"
      ],
      "metadata": {
        "id": "kW8F5reFABkd"
      }
    },
    {
      "cell_type": "code",
      "source": [
        "2+4+5+2+0+2+3"
      ],
      "metadata": {
        "colab": {
          "base_uri": "https://localhost:8080/"
        },
        "id": "qCDi8awk-NKv",
        "outputId": "bbd03f28-3f68-46e2-fea0-a4942b60f113"
      },
      "execution_count": 1,
      "outputs": [
        {
          "output_type": "execute_result",
          "data": {
            "text/plain": [
              "18"
            ]
          },
          "metadata": {},
          "execution_count": 1
        }
      ]
    },
    {
      "cell_type": "code",
      "source": [
        "\"2\" + \"4\" + \" \" + \"5\" + \" \" + \"2\" + \"0\" + \"2\" + \"3\""
      ],
      "metadata": {
        "colab": {
          "base_uri": "https://localhost:8080/",
          "height": 35
        },
        "id": "DIgRxv3t_bh1",
        "outputId": "070e4393-7778-4f4b-963b-88d579d153ec"
      },
      "execution_count": 4,
      "outputs": [
        {
          "output_type": "execute_result",
          "data": {
            "text/plain": [
              "'24 5 2023'"
            ],
            "application/vnd.google.colaboratory.intrinsic+json": {
              "type": "string"
            }
          },
          "metadata": {},
          "execution_count": 4
        }
      ]
    },
    {
      "cell_type": "code",
      "source": [
        "# try some other operations\n",
        "\n",
        "4/2 + 3*6 - 8"
      ],
      "metadata": {
        "colab": {
          "base_uri": "https://localhost:8080/"
        },
        "id": "XAKic0RHAIbT",
        "outputId": "db7d03b7-d1ad-427c-d2c5-67eaafc8dddb"
      },
      "execution_count": 9,
      "outputs": [
        {
          "output_type": "execute_result",
          "data": {
            "text/plain": [
              "12.0"
            ]
          },
          "metadata": {},
          "execution_count": 9
        }
      ]
    },
    {
      "cell_type": "code",
      "source": [
        "# notice the floating point (12.0); you can ask for a specific number type, floating point - \"float\" or integer - \"int\" \n",
        "\n",
        "int(4/2 + 3*6 - 8)"
      ],
      "metadata": {
        "colab": {
          "base_uri": "https://localhost:8080/"
        },
        "id": "KDHeCXf4Ac38",
        "outputId": "0b98a9a9-5a4d-46c4-8052-9b5b907a8f78"
      },
      "execution_count": 10,
      "outputs": [
        {
          "output_type": "execute_result",
          "data": {
            "text/plain": [
              "12"
            ]
          },
          "metadata": {},
          "execution_count": 10
        }
      ]
    },
    {
      "cell_type": "markdown",
      "metadata": {
        "id": "-rxBNxTrRIZc"
      },
      "source": [
        "#### Working with variables\n",
        "\n",
        "A variable is a container for holding certain values, e.g. strings or numbers. In the course of the programme, one can access the value of the variable's content, or assign a new value to them."
      ]
    },
    {
      "cell_type": "code",
      "execution_count": 2,
      "metadata": {
        "colab": {
          "base_uri": "https://localhost:8080/"
        },
        "id": "UygEv-lTRIZc",
        "outputId": "c783a901-bea3-486d-e389-6e3d5465232b"
      },
      "outputs": [
        {
          "output_type": "stream",
          "name": "stdout",
          "text": [
            "Yes we can!\n"
          ]
        }
      ],
      "source": [
        "myVariable = \"Yes\"\n",
        "anotherVariable = \"we can!\"\n",
        "print(myVariable + \" \" + anotherVariable)"
      ]
    },
    {
      "cell_type": "markdown",
      "metadata": {
        "id": "pJxdT-KWRIZe"
      },
      "source": [
        "The variable name is freely selectable, but there are a few words that you are not allowed to use (e.g. python-specific commands like print). Try the addition again and try to change the value of the variable: "
      ]
    },
    {
      "cell_type": "code",
      "execution_count": 3,
      "metadata": {
        "colab": {
          "base_uri": "https://localhost:8080/"
        },
        "id": "WhiGqjPcRIZe",
        "outputId": "469c2bf9-b77f-4c8a-cfc2-76c37388b506"
      },
      "outputs": [
        {
          "output_type": "execute_result",
          "data": {
            "text/plain": [
              "2.5"
            ]
          },
          "metadata": {},
          "execution_count": 3
        }
      ],
      "source": [
        "nummer1 = 5\n",
        "nummer2 = 2\n",
        "nummer1 * nummer2\n",
        "nummer1 + nummer2\n",
        "nummer1 - nummer2\n",
        "nummer1 / nummer2"
      ]
    },
    {
      "cell_type": "markdown",
      "metadata": {
        "id": "sdSHkEMDRIZf"
      },
      "source": [
        "Actually, we would expect the command line to spit out 4 values, right? You can use the \"print\" statement to print values in the terminal since the notebook terminal only prints the last command that outputs."
      ]
    },
    {
      "cell_type": "code",
      "execution_count": 4,
      "metadata": {
        "colab": {
          "base_uri": "https://localhost:8080/"
        },
        "id": "yLSKIQflRIZg",
        "outputId": "7d846fc9-dde7-465d-a2a2-bca7e4566128"
      },
      "outputs": [
        {
          "output_type": "stream",
          "name": "stdout",
          "text": [
            "5\n",
            "147\n",
            "43\n"
          ]
        }
      ],
      "source": [
        "i = 5\n",
        "print(i)\n",
        "i = i + 142\n",
        "print(i)\n",
        "i = 43\n",
        "print(i)"
      ]
    },
    {
      "cell_type": "markdown",
      "metadata": {
        "id": "WmN7q23PRIZh"
      },
      "source": [
        "You can make a mistake once in a while. The syntax must always be exact, for example Upper/lower case characters, a typing error such as Print instead of print immediately throws up an error:"
      ]
    },
    {
      "cell_type": "code",
      "execution_count": 5,
      "metadata": {
        "colab": {
          "base_uri": "https://localhost:8080/",
          "height": 133
        },
        "id": "x4fv90ykRIZh",
        "outputId": "c86a4019-bffb-4634-8e88-8b5bbf10bafe"
      },
      "outputs": [
        {
          "output_type": "error",
          "ename": "SyntaxError",
          "evalue": "ignored",
          "traceback": [
            "\u001b[0;36m  File \u001b[0;32m\"<ipython-input-5-ace067c4b83b>\"\u001b[0;36m, line \u001b[0;32m1\u001b[0m\n\u001b[0;31m    Print i\u001b[0m\n\u001b[0m          ^\u001b[0m\n\u001b[0;31mSyntaxError\u001b[0m\u001b[0;31m:\u001b[0m invalid syntax\n"
          ]
        }
      ],
      "source": [
        "Print i\n"
      ]
    },
    {
      "cell_type": "markdown",
      "source": [
        "You get a syntax error. The first line of the error message immediately tells you where the error is. Because our programme has only one line, it is \"line 1\". You can also see that the word print is no longer green, as it was before! Try correcting the cell."
      ],
      "metadata": {
        "id": "VQVwhoORCj5u"
      }
    },
    {
      "cell_type": "markdown",
      "metadata": {
        "id": "YDXBACToRIZj"
      },
      "source": [
        "#### Random numbers\n",
        "\n",
        "Now, let's get to know our first function. Functions are something like little sub-programmes that can give us a certain value. \n",
        "\n",
        "The function randint(m, n) returns a randomly selected number from the number range {m, m+1, ..., n}. A call randint(1, 6) thus returns a natural number between 1 and 6."
      ]
    },
    {
      "cell_type": "code",
      "execution_count": null,
      "metadata": {
        "colab": {
          "base_uri": "https://localhost:8080/",
          "height": 171
        },
        "id": "0NUoqiWTRIZj",
        "outputId": "08ed2d63-8feb-4306-b9b7-746388b35d23"
      },
      "outputs": [
        {
          "ename": "NameError",
          "evalue": "ignored",
          "output_type": "error",
          "traceback": [
            "\u001b[0;31m---------------------------------------------------------------------------\u001b[0m",
            "\u001b[0;31mNameError\u001b[0m                                 Traceback (most recent call last)",
            "\u001b[0;32m<ipython-input-8-db9205f7976d>\u001b[0m in \u001b[0;36m<module>\u001b[0;34m\u001b[0m\n\u001b[0;32m----> 1\u001b[0;31m \u001b[0mrandint\u001b[0m\u001b[0;34m(\u001b[0m\u001b[0;36m1\u001b[0m\u001b[0;34m,\u001b[0m\u001b[0;36m6\u001b[0m\u001b[0;34m)\u001b[0m\u001b[0;34m\u001b[0m\u001b[0;34m\u001b[0m\u001b[0m\n\u001b[0m",
            "\u001b[0;31mNameError\u001b[0m: name 'randint' is not defined"
          ]
        }
      ],
      "source": [
        "randint(1,6)"
      ]
    },
    {
      "cell_type": "markdown",
      "metadata": {
        "id": "HSJ4YEQpRIZk"
      },
      "source": [
        "But we get an error message that 'randint' is not defined. What does this mean? Python is very modular. The random function is an extra module and must first be imported:"
      ]
    },
    {
      "cell_type": "code",
      "execution_count": 5,
      "metadata": {
        "collapsed": true,
        "id": "vftRtXmRRIZk",
        "colab": {
          "base_uri": "https://localhost:8080/"
        },
        "outputId": "b1594a30-04a9-41cf-f08b-63d04b712edd"
      },
      "outputs": [
        {
          "output_type": "execute_result",
          "data": {
            "text/plain": [
              "6"
            ]
          },
          "metadata": {},
          "execution_count": 5
        }
      ],
      "source": [
        "from random import randint\n",
        "randint(1,6)"
      ]
    },
    {
      "cell_type": "markdown",
      "metadata": {
        "id": "9_m08ksTRIZk"
      },
      "source": [
        "Now the **random** module has now been loaded into our notebook and the **randint** function works. Try it many times, try changing the numbers."
      ]
    },
    {
      "cell_type": "code",
      "execution_count": 6,
      "metadata": {
        "id": "MN5t08rdRIZk",
        "colab": {
          "base_uri": "https://localhost:8080/"
        },
        "outputId": "57100b2f-5f7e-4993-9806-07103f78487a"
      },
      "outputs": [
        {
          "output_type": "stream",
          "name": "stdout",
          "text": [
            "your lucky number today is  612808\n"
          ]
        }
      ],
      "source": [
        "# come back to numerology....\n",
        "luckyNumber = randint(1,1000000)\n",
        "print('your lucky number today is ', luckyNumber)"
      ]
    },
    {
      "cell_type": "markdown",
      "metadata": {
        "id": "qd2Lw0xSRIZo"
      },
      "source": [
        "A problem that occurs relatively often is when you want to link two different types of data (e.g. a number and a text). See for yourself:"
      ]
    },
    {
      "cell_type": "code",
      "execution_count": 7,
      "metadata": {
        "id": "zSXTys5zRIZo",
        "colab": {
          "base_uri": "https://localhost:8080/",
          "height": 169
        },
        "outputId": "40e72e6d-0188-42e6-ad7d-7b0a4023bac1"
      },
      "outputs": [
        {
          "output_type": "error",
          "ename": "TypeError",
          "evalue": "ignored",
          "traceback": [
            "\u001b[0;31m---------------------------------------------------------------------------\u001b[0m",
            "\u001b[0;31mTypeError\u001b[0m                                 Traceback (most recent call last)",
            "\u001b[0;32m<ipython-input-7-0a3898229f95>\u001b[0m in \u001b[0;36m<module>\u001b[0;34m\u001b[0m\n\u001b[0;32m----> 1\u001b[0;31m \u001b[0mprint\u001b[0m\u001b[0;34m(\u001b[0m\u001b[0;34m\"Your lucky number is: \"\u001b[0m \u001b[0;34m+\u001b[0m \u001b[0mluckyNumber\u001b[0m \u001b[0;34m+\u001b[0m \u001b[0;34m\" soooo lucky\"\u001b[0m\u001b[0;34m)\u001b[0m\u001b[0;34m\u001b[0m\u001b[0;34m\u001b[0m\u001b[0m\n\u001b[0m",
            "\u001b[0;31mTypeError\u001b[0m: can only concatenate str (not \"int\") to str"
          ]
        }
      ],
      "source": [
        "print(\"Your lucky number is: \" + luckyNumber + \" soooo lucky\")\n"
      ]
    },
    {
      "cell_type": "markdown",
      "source": [
        "We have to convert the number - the value of the variable - into a string, like this:"
      ],
      "metadata": {
        "id": "vWSG2jyq8EY0"
      }
    },
    {
      "cell_type": "code",
      "source": [
        "print(\"Your lucky number is: \" + str(luckyNumber) + \" soooo lucky\")"
      ],
      "metadata": {
        "colab": {
          "base_uri": "https://localhost:8080/"
        },
        "id": "TThKh_QX73jZ",
        "outputId": "3a22f73d-f568-4b77-a048-8f3fc2cad048"
      },
      "execution_count": 8,
      "outputs": [
        {
          "output_type": "stream",
          "name": "stdout",
          "text": [
            "Your lucky number is: 612808 soooo lucky\n"
          ]
        }
      ]
    },
    {
      "cell_type": "markdown",
      "source": [
        "Now try integrating the random function into this line instead of the variable value, to get a different number every time you run the code:"
      ],
      "metadata": {
        "id": "8-qo86Jf8NfK"
      }
    },
    {
      "cell_type": "code",
      "source": [],
      "metadata": {
        "id": "0IVzMLvG8BmO"
      },
      "execution_count": null,
      "outputs": []
    },
    {
      "cell_type": "markdown",
      "metadata": {
        "id": "IktiBNFERIZl"
      },
      "source": [
        "### Conditional statements\n",
        "\n",
        "At some points in your code , you want to detect or distinguis certain stages/conditions. So far, we have been able to write programmes in which one instruction follows another and they are also executed in this order. In a programming language, a conditional statement means parts of code that are executed under certain conditions. If the condition is not present, this code is not executed.  Normally it looks like this in Python:\n",
        "\n",
        "```\n",
        "if condition1:\n",
        "    instructions1\n",
        "\n",
        "```"
      ]
    },
    {
      "cell_type": "markdown",
      "metadata": {
        "id": "tAG8MFHQRIZl"
      },
      "source": [
        "You see the second line is indented. The tabulator key is used to make the indentation. How do these instructions work? With the condition, you check whether a state is \"true\" or \"false\"."
      ]
    },
    {
      "cell_type": "code",
      "execution_count": 1,
      "metadata": {
        "colab": {
          "base_uri": "https://localhost:8080/"
        },
        "id": "NjbgEFicRIZl",
        "outputId": "8e754c86-0671-43f5-c47d-cf8c0d5716ce"
      },
      "outputs": [
        {
          "output_type": "stream",
          "name": "stdout",
          "text": [
            "not sure which number is bigger\n",
            "but the're not the same\n",
            "--------------\n"
          ]
        }
      ],
      "source": [
        "nummer1 = 3\n",
        "nummer2 = 5\n",
        "if nummer1 == nummer2:\n",
        "    print(\"they're the same!!!!\")\n",
        "else:\n",
        "    print(\"not sure which number is bigger\")\n",
        "    print(\"but they're not the same\")\n",
        "    print(\"--------------\")"
      ]
    },
    {
      "cell_type": "markdown",
      "metadata": {
        "id": "t-pYz_NMRIZm"
      },
      "source": [
        "Now try changing the numbers. Suddenly the output disappears because the condition no longer applies. Here you use two == characters to compare the two values. The counterpart to the *if* is the *else*, with which you can catch everything that does not apply:\n"
      ]
    },
    {
      "cell_type": "markdown",
      "metadata": {
        "id": "WI78c_DhRIZn"
      },
      "source": [
        "You can also check if the value exceeds a certain limit with the less and greater sign < >: try to swap the > with the <. Does the output change?"
      ]
    },
    {
      "cell_type": "code",
      "execution_count": null,
      "metadata": {
        "colab": {
          "base_uri": "https://localhost:8080/"
        },
        "id": "Lj9rsitgRIZn",
        "outputId": "3ce28079-cfcb-49aa-b349-a4242fe503c0"
      },
      "outputs": [
        {
          "name": "stdout",
          "output_type": "stream",
          "text": [
            "number 1 is bigger than number 2\n"
          ]
        }
      ],
      "source": [
        "nummer1 = 5\n",
        "nummer2 = 3\n",
        "if nummer1 > nummer2:\n",
        "    print(\"number 1 is bigger than number 2\")\n",
        "else:\n",
        "    print(\"## number 2 is bigger than number 1\")"
      ]
    },
    {
      "cell_type": "markdown",
      "metadata": {
        "id": "mvlZM5ooRIZq"
      },
      "source": [
        "### Loops\n",
        "\n",
        "You can make the computer do repetitive things quite easily with loops. Loops, are needed to repeatedly execute a block of code, also called a loop body. In Python, there are two types of loops: the while loop and the for loop."
      ]
    },
    {
      "cell_type": "code",
      "execution_count": null,
      "metadata": {
        "colab": {
          "base_uri": "https://localhost:8080/"
        },
        "id": "OWkPGK0ORIZq",
        "outputId": "7f4dc961-676c-4122-a6b1-21a5de585ba7"
      },
      "outputs": [
        {
          "name": "stdout",
          "output_type": "stream",
          "text": [
            "1\n",
            "hello world\n",
            "2\n",
            "hello world\n",
            "3\n",
            "hello world\n",
            "4\n",
            "hello world\n"
          ]
        }
      ],
      "source": [
        "a = 0\n",
        "while a < 4:\n",
        "    #a = a + 1\n",
        "    a += 1\n",
        "    print(a)\n",
        "    print(\"hello world\")\n"
      ]
    },
    {
      "cell_type": "code",
      "execution_count": null,
      "metadata": {
        "id": "kJMio2LARIZq"
      },
      "outputs": [],
      "source": [
        "for i in range(35):\n",
        "    print(\"hello\")\n",
        "    print(i)"
      ]
    },
    {
      "cell_type": "markdown",
      "metadata": {
        "id": "yhstrOGyRIZs"
      },
      "source": [
        "How can you build a down-counting counter from this? Try to think it through on a piece of paper. Tip: you have to subtract something!"
      ]
    },
    {
      "cell_type": "code",
      "execution_count": null,
      "metadata": {
        "id": "y6UcOFg0RIZs",
        "scrolled": false
      },
      "outputs": [],
      "source": []
    },
    {
      "cell_type": "markdown",
      "metadata": {
        "id": "6PZ9VpnvRIZs"
      },
      "source": [
        "### Lists\n",
        "\n",
        "A list can be thought of as an array of single elements. You can create lists of any length, either with numbers or with text, or with both. A list of values (elements) is separated by commas and enclosed in square brackets. To define a list"
      ]
    },
    {
      "cell_type": "code",
      "execution_count": null,
      "metadata": {
        "colab": {
          "base_uri": "https://localhost:8080/"
        },
        "id": "0rK11-4jRIZs",
        "outputId": "223ca8a8-6891-4572-cf87-102fe12df9df"
      },
      "outputs": [
        {
          "name": "stdout",
          "output_type": "stream",
          "text": [
            "['batman', 'saxplayer', 'technoviking', 'nyancat']\n"
          ]
        }
      ],
      "source": [
        "myList = [\"batman\",\"saxplayer\",\"technoviking\",\"nyancat\"]\n",
        "print(myList)"
      ]
    },
    {
      "cell_type": "markdown",
      "metadata": {
        "id": "eubcnO8vRIZt"
      },
      "source": [
        "Lists are helpful because a lot of data is usually stored via lists. To read the individual texts from the list, you can write:"
      ]
    },
    {
      "cell_type": "code",
      "execution_count": null,
      "metadata": {
        "colab": {
          "base_uri": "https://localhost:8080/"
        },
        "id": "FoGYjsugRIZt",
        "outputId": "749582fb-992f-45c3-dce4-91d7a3fb2ff3"
      },
      "outputs": [
        {
          "name": "stdout",
          "output_type": "stream",
          "text": [
            "batman is so boring\n",
            "saxplayer is so boring\n"
          ]
        }
      ],
      "source": [
        "print(myList[0] + \" is so boring\")\n",
        "print(myList[1] + \" is so boring\")"
      ]
    },
    {
      "cell_type": "markdown",
      "metadata": {
        "id": "DMEnMhi1RIZv"
      },
      "source": [
        "The practical thing is that you can use loops together with lists."
      ]
    },
    {
      "cell_type": "code",
      "execution_count": null,
      "metadata": {
        "id": "nS_qtCQMRIZv"
      },
      "outputs": [],
      "source": [
        "for element in myList:\n",
        "    print(element + \" is so boring\")"
      ]
    },
    {
      "cell_type": "markdown",
      "metadata": {
        "id": "sykulWTrRIZv"
      },
      "source": [
        "If I change the length of the list, I can use the same for loop to output them all:"
      ]
    },
    {
      "cell_type": "code",
      "execution_count": null,
      "metadata": {
        "id": "PZLX4_GkRIZw"
      },
      "outputs": [],
      "source": [
        "myList = [\"batman\",\"saxplayer\",\"technoviking\",\"nyancat\",\"rainbow\",\"double rainbow\",\"waterfall\",\"and so on...\"]\n",
        "for element in myList:\n",
        "    print(element)"
      ]
    },
    {
      "cell_type": "markdown",
      "metadata": {
        "id": "MRajLJ7JRIZw"
      },
      "source": [
        "We can randomly mix up the order in the list with the shuffle function: "
      ]
    },
    {
      "cell_type": "code",
      "execution_count": null,
      "metadata": {
        "id": "4JDRcyhzRIZw"
      },
      "outputs": [],
      "source": [
        "import random\n",
        "random.shuffle(myList)"
      ]
    },
    {
      "cell_type": "markdown",
      "metadata": {
        "id": "I3CmHMdrRIZw"
      },
      "source": [
        "This does nothing at first, at least it looks like it. But the order has already been changed, so if we now output myList, we see the following:"
      ]
    },
    {
      "cell_type": "code",
      "execution_count": null,
      "metadata": {
        "id": "pxbfxngERIZx"
      },
      "outputs": [],
      "source": [
        "myList"
      ]
    },
    {
      "cell_type": "markdown",
      "metadata": {
        "id": "dNQzdCbcRIZx"
      },
      "source": [
        "Now try random.shuffle(mylist) again in the bottom row"
      ]
    },
    {
      "cell_type": "code",
      "execution_count": null,
      "metadata": {
        "collapsed": true,
        "id": "5xDR0WOuRIZx"
      },
      "outputs": [],
      "source": []
    },
    {
      "cell_type": "code",
      "source": [
        "# import and use relevant libraries"
      ],
      "metadata": {
        "id": "RnQqfiOCzMHX"
      },
      "execution_count": null,
      "outputs": []
    },
    {
      "cell_type": "code",
      "execution_count": null,
      "metadata": {
        "id": "1xp7LW6SXrrc"
      },
      "outputs": [],
      "source": [
        "import this # for more eastereggs look here https://xkcd.com/353/"
      ]
    },
    {
      "cell_type": "markdown",
      "source": [
        "## Self-organizing Map (SOM)\n",
        "\n",
        "An artificial neural network (ANN) algorithm for unsupervised machine learning. \n",
        "SOM was introduced by the Finish computer scientist Teuvo Kohonen in 1982. It is used for ordering high-dimensional statistical data so that alike inputs are mapped closer to each other, illustrating the similarity relationships between different data items, that can be explored in an intuitive manner. \n",
        "\n",
        "SOM presents datapoint relationships in two dimensions, by projecting the higher-dimensional onto a low-dimensional space of predetermined size, a sort of a map. Data points with similar features are mapped close together, resulting in clusters.\n",
        "\n",
        "More information: https://en.wikipedia.org/wiki/Self-organizing_map \n"
      ],
      "metadata": {
        "id": "hF97kM2RzPib"
      }
    },
    {
      "cell_type": "code",
      "source": [
        "! pip install susi"
      ],
      "metadata": {
        "colab": {
          "base_uri": "https://localhost:8080/"
        },
        "id": "Oh3VfI3G9T0q",
        "outputId": "dedf1f3a-3943-47aa-f757-ca35e7694289"
      },
      "execution_count": 10,
      "outputs": [
        {
          "output_type": "stream",
          "name": "stdout",
          "text": [
            "Looking in indexes: https://pypi.org/simple, https://us-python.pkg.dev/colab-wheels/public/simple/\n",
            "Collecting susi\n",
            "  Downloading susi-1.2.2.zip (36 kB)\n",
            "  Preparing metadata (setup.py) ... \u001b[?25l\u001b[?25hdone\n",
            "Requirement already satisfied: joblib in /usr/local/lib/python3.9/dist-packages (from susi) (1.1.1)\n",
            "Requirement already satisfied: numpy in /usr/local/lib/python3.9/dist-packages (from susi) (1.22.4)\n",
            "Requirement already satisfied: scikit-learn in /usr/local/lib/python3.9/dist-packages (from susi) (1.2.2)\n",
            "Requirement already satisfied: scipy in /usr/local/lib/python3.9/dist-packages (from susi) (1.10.1)\n",
            "Requirement already satisfied: tqdm in /usr/local/lib/python3.9/dist-packages (from susi) (4.65.0)\n",
            "Requirement already satisfied: matplotlib in /usr/local/lib/python3.9/dist-packages (from susi) (3.7.1)\n",
            "Requirement already satisfied: fonttools>=4.22.0 in /usr/local/lib/python3.9/dist-packages (from matplotlib->susi) (4.39.2)\n",
            "Requirement already satisfied: kiwisolver>=1.0.1 in /usr/local/lib/python3.9/dist-packages (from matplotlib->susi) (1.4.4)\n",
            "Requirement already satisfied: cycler>=0.10 in /usr/local/lib/python3.9/dist-packages (from matplotlib->susi) (0.11.0)\n",
            "Requirement already satisfied: importlib-resources>=3.2.0 in /usr/local/lib/python3.9/dist-packages (from matplotlib->susi) (5.12.0)\n",
            "Requirement already satisfied: pillow>=6.2.0 in /usr/local/lib/python3.9/dist-packages (from matplotlib->susi) (8.4.0)\n",
            "Requirement already satisfied: contourpy>=1.0.1 in /usr/local/lib/python3.9/dist-packages (from matplotlib->susi) (1.0.7)\n",
            "Requirement already satisfied: python-dateutil>=2.7 in /usr/local/lib/python3.9/dist-packages (from matplotlib->susi) (2.8.2)\n",
            "Requirement already satisfied: packaging>=20.0 in /usr/local/lib/python3.9/dist-packages (from matplotlib->susi) (23.0)\n",
            "Requirement already satisfied: pyparsing>=2.3.1 in /usr/local/lib/python3.9/dist-packages (from matplotlib->susi) (3.0.9)\n",
            "Requirement already satisfied: threadpoolctl>=2.0.0 in /usr/local/lib/python3.9/dist-packages (from scikit-learn->susi) (3.1.0)\n",
            "Requirement already satisfied: zipp>=3.1.0 in /usr/local/lib/python3.9/dist-packages (from importlib-resources>=3.2.0->matplotlib->susi) (3.15.0)\n",
            "Requirement already satisfied: six>=1.5 in /usr/local/lib/python3.9/dist-packages (from python-dateutil>=2.7->matplotlib->susi) (1.16.0)\n",
            "Building wheels for collected packages: susi\n",
            "  Building wheel for susi (setup.py) ... \u001b[?25l\u001b[?25hdone\n",
            "  Created wheel for susi: filename=susi-1.2.2-py3-none-any.whl size=26886 sha256=0533a65ccefedbec8378ba8c4bb92bca85ad904d2f69cb268e169fdd7072d9e5\n",
            "  Stored in directory: /root/.cache/pip/wheels/8b/fc/51/0585ba580371cc882e82745a4ff23430ca8616cad175f13594\n",
            "Successfully built susi\n",
            "Installing collected packages: susi\n",
            "Successfully installed susi-1.2.2\n"
          ]
        }
      ]
    },
    {
      "cell_type": "code",
      "source": [
        "import susi\n",
        "\n",
        "# short intro to working with SOM"
      ],
      "metadata": {
        "id": "TOloTyuT2qrz"
      },
      "execution_count": 11,
      "outputs": []
    },
    {
      "cell_type": "markdown",
      "source": [
        "### Clustering and projecting colors"
      ],
      "metadata": {
        "id": "KxUEjDS43CHs"
      }
    },
    {
      "cell_type": "code",
      "source": [
        "import numpy as np\n",
        "import matplotlib.pyplot as plt\n",
        "import math\n",
        "import susi\n",
        "from susi.SOMPlots import plot_nbh_dist_weight_matrix, plot_umatrix, plot_estimation_map, plot_som_histogram"
      ],
      "metadata": {
        "id": "BeUAXgSDG56z"
      },
      "execution_count": null,
      "outputs": []
    },
    {
      "cell_type": "code",
      "source": [
        "rand = np.random.RandomState(0)\n",
        "train_data = rand.randint(0, 255, (3000, 3))\n",
        "# print(train_data)"
      ],
      "metadata": {
        "id": "F7KeH2hTHb_b"
      },
      "execution_count": null,
      "outputs": []
    },
    {
      "cell_type": "code",
      "source": [
        "# @markdown Display the trining data\n",
        "fig, ax = plt.subplots(\n",
        "    nrows=1, ncols=1, figsize=(12, 3.5), \n",
        "    subplot_kw=dict(xticks=[], yticks=[])\n",
        "    )\n",
        "shape_x = 50 # @param{type:\"integer\"}\n",
        "shape_y = 60 # @param{type:\"integer\"}\n",
        "ax.imshow(train_data.reshape(shape_x, shape_y, 3))\n",
        "ax.title.set_text('Training Data')"
      ],
      "metadata": {
        "colab": {
          "base_uri": "https://localhost:8080/",
          "height": 237
        },
        "id": "WIuiRTkFIYhd",
        "outputId": "edebfce1-14ab-4ae5-ae9b-4e6878e55024"
      },
      "execution_count": null,
      "outputs": [
        {
          "output_type": "display_data",
          "data": {
            "text/plain": [
              "<Figure size 864x252 with 1 Axes>"
            ],
            "image/png": "[encoded data removed]"
          },
          "metadata": {}
        }
      ]
    },
    {
      "cell_type": "code",
      "source": [
        "# 5 * sqrt(number of training samples)\n",
        "grid = math.ceil(5 * math.sqrt(3000))\n",
        "grid = math.floor(math.sqrt(grid))\n",
        "print(grid)\n",
        "\n",
        "# this returns \"ideal\" grid size\n",
        "# maybe is a parameter that students can play around as well"
      ],
      "metadata": {
        "colab": {
          "base_uri": "https://localhost:8080/"
        },
        "id": "M2QTGrK_Kk7t",
        "outputId": "c36a327f-2c65-49a7-ecb0-967fd44bd7bc"
      },
      "execution_count": null,
      "outputs": [
        {
          "output_type": "stream",
          "name": "stdout",
          "text": [
            "16\n"
          ]
        }
      ]
    },
    {
      "cell_type": "code",
      "source": [
        "# @title Unsupervised Learning\n",
        "som = susi.SOMClustering(\n",
        "    n_rows=grid,\n",
        "    n_columns=grid\n",
        ")\n",
        "som.fit(train_data)\n",
        "print(\"SOM fitted!\")"
      ],
      "metadata": {
        "colab": {
          "base_uri": "https://localhost:8080/"
        },
        "id": "nkrcfz1BLUwd",
        "outputId": "cea62bba-ffb8-4500-9037-a82380875a09"
      },
      "execution_count": null,
      "outputs": [
        {
          "output_type": "stream",
          "name": "stdout",
          "text": [
            "SOM fitted!\n"
          ]
        }
      ]
    },
    {
      "cell_type": "code",
      "source": [
        "# @title Project Data\n",
        "test_data = rand.randint(20, 200, (3000, 3))\n",
        "result = som.transform(test_data)\n"
      ],
      "metadata": {
        "id": "2sguc64jPedH"
      },
      "execution_count": null,
      "outputs": []
    },
    {
      "cell_type": "code",
      "source": [
        "result = som.transform(train_data)"
      ],
      "metadata": {
        "id": "rx_Ws-dYIp_K"
      },
      "execution_count": null,
      "outputs": []
    },
    {
      "cell_type": "code",
      "source": [
        "X = [x[0] for x in result]\n",
        "Y = [x[1] for x in result]\n",
        "C = test_data\n",
        "fig = plt.figure()\n",
        "ax = fig.add_subplot(111)\n",
        "\n",
        "ax.scatter(X, Y, c = C/255.0)\n",
        "plt.show()"
      ],
      "metadata": {
        "colab": {
          "base_uri": "https://localhost:8080/",
          "height": 265
        },
        "id": "i6ZRB8ILTGK_",
        "outputId": "0e93a460-e5cc-4d36-efbe-563d1cd88dc4"
      },
      "execution_count": null,
      "outputs": [
        {
          "output_type": "display_data",
          "data": {
            "text/plain": [
              "<Figure size 432x288 with 1 Axes>"
            ],
            "image/png": "[encoded data removed]"
          },
          "metadata": {
            "needs_background": "light"
          }
        }
      ]
    }
  ]
}