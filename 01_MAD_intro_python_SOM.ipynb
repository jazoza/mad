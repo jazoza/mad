{
  "nbformat": 4,
  "nbformat_minor": 0,
  "metadata": {
    "colab": {
      "provenance": [],
      "authorship_tag": "ABX9TyO+B+sX4E8FLci0rgZSToGC",
      "include_colab_link": true
    },
    "kernelspec": {
      "name": "python3",
      "display_name": "Python 3"
    },
    "language_info": {
      "name": "python"
    }
  },
  "cells": [
    {
      "cell_type": "markdown",
      "metadata": {
        "id": "view-in-github",
        "colab_type": "text"
      },
      "source": [
        "<a href=\"https://colab.research.google.com/github/jazoza/mad/blob/main/01_MAD_intro_python_SOM.ipynb\" target=\"_parent\"><img src=\"https://colab.research.google.com/assets/colab-badge.svg\" alt=\"Open In Colab\"/></a>"
      ]
    },
    {
      "cell_type": "markdown",
      "source": [
        "# Making Arguments with Data\n",
        "\n",
        "Introduction into Python and Self-organizing map (SOM)"
      ],
      "metadata": {
        "id": "C5a5Oh1wcH-N"
      }
    },
    {
      "cell_type": "code",
      "execution_count": null,
      "metadata": {
        "id": "q2nG6vhTa6yM"
      },
      "outputs": [],
      "source": [
        "# basic python syntax and operations"
      ]
    },
    {
      "cell_type": "code",
      "source": [
        "# import and use relevant libraries"
      ],
      "metadata": {
        "id": "RnQqfiOCzMHX"
      },
      "execution_count": null,
      "outputs": []
    },
    {
      "cell_type": "markdown",
      "source": [
        "## Self-organizing Map (SOM)\n",
        "\n",
        "An artificial neural network (ANN) algorithm for unsupervised machine learning. \n",
        "SOM was introduced by the Finish computer scientist Teuvo Kohonen in 1982. It is used for ordering high-dimensional statistical data so that alike inputs are mapped closer to each other, illustrating the similarity relationships between different data items, that can be explored in an intuitive manner. \n",
        "\n",
        "SOM presents datapoint relationships in two dimensions, by projecting the higher-dimensional onto a low-dimensional space of predetermined size, a sort of a map. Data points with similar features are mapped close together, resulting in clusters.\n",
        "\n",
        "More information: https://en.wikipedia.org/wiki/Self-organizing_map \n"
      ],
      "metadata": {
        "id": "hF97kM2RzPib"
      }
    },
    {
      "cell_type": "code",
      "source": [
        "import susi\n",
        "\n",
        "# short intro to working with SOM"
      ],
      "metadata": {
        "id": "TOloTyuT2qrz"
      },
      "execution_count": null,
      "outputs": []
    },
    {
      "cell_type": "markdown",
      "source": [
        "### Clustering and projecting colors"
      ],
      "metadata": {
        "id": "KxUEjDS43CHs"
      }
    },
    {
      "cell_type": "code",
      "source": [
        "# Yann's exmaple with clustering colors"
      ],
      "metadata": {
        "id": "z1s23oSY26nP"
      },
      "execution_count": null,
      "outputs": []
    }
  ]
}